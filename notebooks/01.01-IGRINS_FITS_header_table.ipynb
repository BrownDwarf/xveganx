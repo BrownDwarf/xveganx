{
 "cells": [
  {
   "cell_type": "markdown",
   "metadata": {},
   "source": [
    "<!--BOOK_INFORMATION-->\n",
    "<img align=\"left\" style=\"padding-right:10px;\" src=\"figures/xveganx_icon.png\">\n",
    "*This notebook contains ongoing research material from [gully](https://twitter.com/gully_); the content is available [on GitHub](https://github.com/BrownDwarf/xveganx).*\n"
   ]
  },
  {
   "cell_type": "markdown",
   "metadata": {},
   "source": [
    "<!--NAVIGATION-->\n",
    "< [Metadata](01.00-Metadata.ipynb) | [Contents](Index.ipynb) | [Period, Spectral Type, and multiplicity](01.02-Grankin2008_period_info.ipynb) >"
   ]
  },
  {
   "cell_type": "markdown",
   "metadata": {},
   "source": [
    "# IGRINS FITS files"
   ]
  },
  {
   "cell_type": "markdown",
   "metadata": {},
   "source": [
    "In this Notebook we make a table of all the local fits files and their header info.  This metadata will be useful for associating which-FITS-file-is-which, and making it easier to search for trends across FITS headers."
   ]
  },
  {
   "cell_type": "code",
   "execution_count": 1,
   "metadata": {
    "collapsed": true
   },
   "outputs": [],
   "source": [
    "import matplotlib.pyplot as plt\n",
    "import numpy as np\n",
    "from astropy.io import fits"
   ]
  },
  {
   "cell_type": "code",
   "execution_count": 2,
   "metadata": {
    "collapsed": true
   },
   "outputs": [],
   "source": [
    "import astropy\n",
    "import os\n",
    "import pandas as pd\n",
    "from astropy.utils.console import ProgressBar"
   ]
  },
  {
   "cell_type": "code",
   "execution_count": 3,
   "metadata": {
    "collapsed": true
   },
   "outputs": [],
   "source": [
    "%matplotlib inline\n",
    "%config InlineBackend.figure_format = 'retina'"
   ]
  },
  {
   "cell_type": "markdown",
   "metadata": {},
   "source": [
    "### Read all the fits header keywords into a big dataframe"
   ]
  },
  {
   "cell_type": "code",
   "execution_count": 4,
   "metadata": {
    "collapsed": true
   },
   "outputs": [],
   "source": [
    "fits_path = '../data/IGRINS/MGS_data_request/'"
   ]
  },
  {
   "cell_type": "code",
   "execution_count": 5,
   "metadata": {
    "collapsed": true
   },
   "outputs": [],
   "source": [
    "all_files = os.listdir(fits_path)\n",
    "c_files = [file for file in all_files if '.fits' in file]"
   ]
  },
  {
   "cell_type": "code",
   "execution_count": 6,
   "metadata": {
    "collapsed": true
   },
   "outputs": [],
   "source": [
    "undef = astropy.io.fits.card.UNDEFINED"
   ]
  },
  {
   "cell_type": "code",
   "execution_count": 7,
   "metadata": {},
   "outputs": [
    {
     "data": {
      "text/plain": [
       "44"
      ]
     },
     "execution_count": 7,
     "metadata": {},
     "output_type": "execute_result"
    }
   ],
   "source": [
    "N_files = len(c_files)\n",
    "N_files"
   ]
  },
  {
   "cell_type": "code",
   "execution_count": 8,
   "metadata": {
    "collapsed": true
   },
   "outputs": [],
   "source": [
    "targ = 42\n",
    "f_name = c_files[targ]\n",
    "hdu_full = fits.open(fits_path+f_name)\n",
    "hdu0 = hdu_full[1]\n",
    "hdr_keys = list(hdu0.header.keys()) + ['filename']"
   ]
  },
  {
   "cell_type": "code",
   "execution_count": 9,
   "metadata": {},
   "outputs": [
    {
     "name": "stdout",
     "output_type": "stream",
     "text": [
      "Filename: ../data/IGRINS/MGS_data_request/SDCK_20150106_0089.spec_a0v.fits\n",
      "No.    Name      Ver    Type      Cards   Dimensions   Format\n",
      "  0  SPEC_DIVIDE_A0V    1 PrimaryHDU     276   (2048, 26)   float64   \n",
      "  1  WAVELENGTH    1 ImageHDU       275   (2048, 26)   float64   \n",
      "  2  TGT_SPEC      1 ImageHDU       275   (2048, 26)   float32   \n",
      "  3  A0V_SPEC      1 ImageHDU       275   (2048, 26)   float32   \n",
      "  4  VEGA_SPEC     1 ImageHDU       275   (2048, 26)   float64   \n",
      "  5  SPEC_DIVIDE_CONT    1 ImageHDU       275   (2048, 26)   float64   \n"
     ]
    }
   ],
   "source": [
    "hdu_full.info()"
   ]
  },
  {
   "cell_type": "markdown",
   "metadata": {},
   "source": [
    "Takes ~ 1 second"
   ]
  },
  {
   "cell_type": "code",
   "execution_count": 10,
   "metadata": {},
   "outputs": [
    {
     "data": {
      "application/vnd.jupyter.widget-view+json": {
       "model_id": "d17e04a7738a439ea627827a08ca5c46"
      }
     },
     "metadata": {},
     "output_type": "display_data"
    },
    {
     "name": "stdout",
     "output_type": "stream",
     "text": [
      "\n",
      "CPU times: user 1.05 s, sys: 67.1 ms, total: 1.11 s\n",
      "Wall time: 1.17 s\n"
     ]
    }
   ],
   "source": [
    "%%time\n",
    "big_list = []\n",
    "with ProgressBar(N_files, ipython_widget=True) as bar:\n",
    "    for i, f_name in enumerate(c_files):\n",
    "        bar.update()\n",
    "        try:\n",
    "            hdu_full = fits.open(fits_path+f_name, memmap=True)\n",
    "        except OSError:\n",
    "            print(\"{:06.0f} had a problem\".format(i))\n",
    "        hdu0 = hdu_full[2]\n",
    "        dict_out = {key:hdu0.header[key] for key in hdu0.header.keys() if hdu0.header[key] != undef}\n",
    "        dict_out['filename'] = f_name\n",
    "        big_list.append(dict_out)\n",
    "        hdu_full.close()"
   ]
  },
  {
   "cell_type": "code",
   "execution_count": 11,
   "metadata": {
    "collapsed": true
   },
   "outputs": [],
   "source": [
    "df_out = pd.DataFrame(big_list)"
   ]
  },
  {
   "cell_type": "code",
   "execution_count": 12,
   "metadata": {},
   "outputs": [
    {
     "data": {
      "text/html": [
       "<div>\n",
       "<style>\n",
       "    .dataframe thead tr:only-child th {\n",
       "        text-align: right;\n",
       "    }\n",
       "\n",
       "    .dataframe thead th {\n",
       "        text-align: left;\n",
       "    }\n",
       "\n",
       "    .dataframe tbody tr th {\n",
       "        vertical-align: top;\n",
       "    }\n",
       "</style>\n",
       "<table border=\"1\" class=\"dataframe\">\n",
       "  <thead>\n",
       "    <tr style=\"text-align: right;\">\n",
       "      <th></th>\n",
       "      <th>ACQTIME</th>\n",
       "      <th>ACQTIME1</th>\n",
       "      <th>ACQTYPE</th>\n",
       "      <th>AIRTEMP</th>\n",
       "      <th>ALT</th>\n",
       "      <th>AMEND</th>\n",
       "      <th>AMPINPUT</th>\n",
       "      <th>AMPRESET</th>\n",
       "      <th>AMSTART</th>\n",
       "      <th>ASICGAIN</th>\n",
       "      <th>...</th>\n",
       "      <th>WAT2_063</th>\n",
       "      <th>WAT2_064</th>\n",
       "      <th>WAT2_065</th>\n",
       "      <th>WAT2_066</th>\n",
       "      <th>WAT3_001</th>\n",
       "      <th>WCSDIM</th>\n",
       "      <th>XTENSION</th>\n",
       "      <th>ZDEND</th>\n",
       "      <th>ZDSTART</th>\n",
       "      <th>filename</th>\n",
       "    </tr>\n",
       "  </thead>\n",
       "  <tbody>\n",
       "    <tr>\n",
       "      <th>42</th>\n",
       "      <td>2.457030e+06</td>\n",
       "      <td>2015-01-07-03:22:21.640</td>\n",
       "      <td>5</td>\n",
       "      <td></td>\n",
       "      <td>29.1</td>\n",
       "      <td>1.0559</td>\n",
       "      <td>1</td>\n",
       "      <td>0</td>\n",
       "      <td>1.0559</td>\n",
       "      <td>8</td>\n",
       "      <td>...</td>\n",
       "      <td>NaN</td>\n",
       "      <td>NaN</td>\n",
       "      <td>NaN</td>\n",
       "      <td>NaN</td>\n",
       "      <td>wtype=linear</td>\n",
       "      <td>3</td>\n",
       "      <td>IMAGE</td>\n",
       "      <td></td>\n",
       "      <td></td>\n",
       "      <td>SDCK_20150106_0089.spec_a0v.fits</td>\n",
       "    </tr>\n",
       "    <tr>\n",
       "      <th>43</th>\n",
       "      <td>2.457345e+06</td>\n",
       "      <td>2015-11-18-09:02:30.876</td>\n",
       "      <td>5</td>\n",
       "      <td></td>\n",
       "      <td>21.8</td>\n",
       "      <td>1.0735</td>\n",
       "      <td>1</td>\n",
       "      <td>0</td>\n",
       "      <td>1.0735</td>\n",
       "      <td>8</td>\n",
       "      <td>...</td>\n",
       "      <td>NaN</td>\n",
       "      <td>NaN</td>\n",
       "      <td>NaN</td>\n",
       "      <td>NaN</td>\n",
       "      <td>wtype=linear</td>\n",
       "      <td>3</td>\n",
       "      <td>IMAGE</td>\n",
       "      <td></td>\n",
       "      <td></td>\n",
       "      <td>SDCK_20151117_0205.spec_a0v.fits</td>\n",
       "    </tr>\n",
       "  </tbody>\n",
       "</table>\n",
       "<p>2 rows × 180 columns</p>\n",
       "</div>"
      ],
      "text/plain": [
       "         ACQTIME                 ACQTIME1  ACQTYPE AIRTEMP   ALT   AMEND  \\\n",
       "42  2.457030e+06  2015-01-07-03:22:21.640        5          29.1  1.0559   \n",
       "43  2.457345e+06  2015-11-18-09:02:30.876        5          21.8  1.0735   \n",
       "\n",
       "    AMPINPUT  AMPRESET AMSTART  ASICGAIN                ...                 \\\n",
       "42         1         0  1.0559         8                ...                  \n",
       "43         1         0  1.0735         8                ...                  \n",
       "\n",
       "   WAT2_063 WAT2_064 WAT2_065 WAT2_066      WAT3_001  WCSDIM  XTENSION  ZDEND  \\\n",
       "42      NaN      NaN      NaN      NaN  wtype=linear       3     IMAGE          \n",
       "43      NaN      NaN      NaN      NaN  wtype=linear       3     IMAGE          \n",
       "\n",
       "    ZDSTART                          filename  \n",
       "42           SDCK_20150106_0089.spec_a0v.fits  \n",
       "43           SDCK_20151117_0205.spec_a0v.fits  \n",
       "\n",
       "[2 rows x 180 columns]"
      ]
     },
     "execution_count": 12,
     "metadata": {},
     "output_type": "execute_result"
    }
   ],
   "source": [
    "df_out.tail(2)"
   ]
  },
  {
   "cell_type": "markdown",
   "metadata": {},
   "source": [
    "### Decide which of the extraneous columns to trim off"
   ]
  },
  {
   "cell_type": "code",
   "execution_count": 13,
   "metadata": {
    "collapsed": true
   },
   "outputs": [],
   "source": [
    "fail_cols = df_out.columns.str.contains('WAT') | df_out.columns.str.contains('COMMENT')\n",
    "pass_cols = ~fail_cols"
   ]
  },
  {
   "cell_type": "code",
   "execution_count": 14,
   "metadata": {},
   "outputs": [
    {
     "data": {
      "text/plain": [
       "array(['ACQTIME', 'ACQTIME1', 'ACQTYPE', 'AIRTEMP', 'ALT', 'AMEND',\n",
       "       'AMPINPUT', 'AMPRESET', 'AMSTART', 'ASICGAIN', 'ASIC_NUM', 'AZI',\n",
       "       'BAND', 'BANDID1', 'BARPRESS', 'BITPIX', 'CD1_1', 'CD2_2', 'CD3_3',\n",
       "       'CLKOFF', 'CLOCKING', 'CTYPE1', 'CTYPE2', 'CTYPE3', 'DATAMODE',\n",
       "       'DATE', 'DATE-END', 'DATE-OBS', 'DATLEVEL', 'DECGS', 'DECTEL',\n",
       "       'DECUSER', 'DETECTOR', 'DEWPOINT', 'DOMETEMP', 'EPOCH', 'EXPMODE',\n",
       "       'EXPTIME', 'EXTNAME', 'FILTER', 'FITSFILE', 'FOCUS', 'FRMNAME',\n",
       "       'FRMODE', 'FRMTIME', 'GAIN', 'GCOUNT', 'GLBRESET', 'HAEND',\n",
       "       'HASTART', 'HUMIDITY', 'HXRGVER', 'INSTRUME', 'KTCREMOV',\n",
       "       'LONGSTRN', 'LTM1_1', 'LTM2_2', 'LTM3_3', 'MCLK', 'MJD-OBS',\n",
       "       'MUXTYPE', 'NADCS', 'NAXIS', 'NAXIS1', 'NAXIS2', 'NEXTRAL',\n",
       "       'NEXTRAP', 'NOMGAIN', 'NOTES', 'NOUTPUTS', 'NRESETS', 'OBJECT',\n",
       "       'OBJTYPE', 'OBSERVAT', 'OBSERVER', 'OBSGROUP', 'OBSID', 'OBSTOT',\n",
       "       'PCOUNT', 'PDDECTOR', 'PIXSCALE', 'RAGS', 'RATEL', 'RAUSER',\n",
       "       'RDNOISE', 'READOUT', 'RPT_NUM', 'RPT_TOT', 'SCA_ID', 'SL_LENG',\n",
       "       'SL_WIDTH', 'SRCCUR', 'TELESCOP', 'TEL_PA', 'TEMP_1', 'TEMP_2',\n",
       "       'TEMP_GR', 'TSTATION', 'UNITS', 'UTDATE', 'UTEND', 'UTSTART',\n",
       "       'V4V3V2V1', 'VACUUM', 'WARMTST', 'WCSDIM', 'XTENSION', 'ZDEND',\n",
       "       'ZDSTART', 'filename'], dtype=object)"
      ]
     },
     "execution_count": 14,
     "metadata": {},
     "output_type": "execute_result"
    }
   ],
   "source": [
    "df_out.columns[pass_cols].values"
   ]
  },
  {
   "cell_type": "code",
   "execution_count": 15,
   "metadata": {
    "collapsed": true
   },
   "outputs": [],
   "source": [
    "count_dict = {col:len(df_out[col].unique()) for col in df_out.columns[pass_cols]}"
   ]
  },
  {
   "cell_type": "code",
   "execution_count": 16,
   "metadata": {
    "collapsed": true
   },
   "outputs": [],
   "source": [
    "uniq_entries = pd.Series(count_dict).sort_values(ascending=False)"
   ]
  },
  {
   "cell_type": "markdown",
   "metadata": {},
   "source": [
    "Let's look at the \"boiler plate\" columns and sparse columns.  We want to get rid of the boiler plate columns that are the same of each observation-- *e.g.* we know these were all observed with Kepler!"
   ]
  },
  {
   "cell_type": "code",
   "execution_count": 17,
   "metadata": {
    "collapsed": true
   },
   "outputs": [],
   "source": [
    "#uniq_entries"
   ]
  },
  {
   "cell_type": "code",
   "execution_count": 18,
   "metadata": {
    "collapsed": true
   },
   "outputs": [],
   "source": [
    "#for col in uniq_entries[:-87].index.values:\n",
    "#    print(\"{:.<20} : {}\".format(col, df_out[col].unique()))"
   ]
  },
  {
   "cell_type": "code",
   "execution_count": 19,
   "metadata": {},
   "outputs": [
    {
     "data": {
      "text/plain": [
       "array(['filename', 'FITSFILE', 'AMEND', 'AMSTART', 'ACQTIME1', 'DATE-END',\n",
       "       'DATE-OBS', 'ACQTIME', 'ALT', 'OBJECT', 'FOCUS', 'OBSERVER',\n",
       "       'UTDATE', 'DATE', 'RAUSER', 'EXPTIME', 'RAGS', 'AZI', 'RATEL',\n",
       "       'DECUSER', 'DECTEL', 'DECGS', 'NAXIS2'], dtype=object)"
      ]
     },
     "execution_count": 19,
     "metadata": {},
     "output_type": "execute_result"
    }
   ],
   "source": [
    "uniq_entries[:-87].index.values"
   ]
  },
  {
   "cell_type": "code",
   "execution_count": 20,
   "metadata": {
    "collapsed": true
   },
   "outputs": [],
   "source": [
    "good_cols = uniq_entries[:-87].index.values"
   ]
  },
  {
   "cell_type": "markdown",
   "metadata": {},
   "source": [
    "## Combine H and K band info when not unique."
   ]
  },
  {
   "cell_type": "code",
   "execution_count": 21,
   "metadata": {
    "collapsed": true
   },
   "outputs": [],
   "source": [
    "df_out = df_out[good_cols]"
   ]
  },
  {
   "cell_type": "code",
   "execution_count": 22,
   "metadata": {},
   "outputs": [
    {
     "data": {
      "text/plain": [
       "(44, 23)"
      ]
     },
     "execution_count": 22,
     "metadata": {},
     "output_type": "execute_result"
    }
   ],
   "source": [
    "df_out.shape"
   ]
  },
  {
   "cell_type": "code",
   "execution_count": 23,
   "metadata": {
    "collapsed": true
   },
   "outputs": [],
   "source": [
    "Hdf = df_out[df_out.filename.str.contains('SDCH')].reset_index(drop=True)\n",
    "Kdf = df_out[df_out.filename.str.contains('SDCK')].reset_index(drop=True)"
   ]
  },
  {
   "cell_type": "code",
   "execution_count": 24,
   "metadata": {},
   "outputs": [
    {
     "data": {
      "text/plain": [
       "filename    22\n",
       "NAXIS2      22\n",
       "FITSFILE    16\n",
       "AMEND       16\n",
       "AMSTART     16\n",
       "ACQTIME1    15\n",
       "DATE-END    15\n",
       "DATE-OBS    15\n",
       "ACQTIME     15\n",
       "FOCUS        0\n",
       "EXPTIME      0\n",
       "UTDATE       0\n",
       "DECTEL       0\n",
       "DECGS        0\n",
       "OBJECT       0\n",
       "OBSERVER     0\n",
       "DATE         0\n",
       "AZI          0\n",
       "RAGS         0\n",
       "RATEL        0\n",
       "ALT          0\n",
       "RAUSER       0\n",
       "DECUSER      0\n",
       "dtype: int64"
      ]
     },
     "execution_count": 24,
     "metadata": {},
     "output_type": "execute_result"
    }
   ],
   "source": [
    "band_differences = {col:(Kdf[col] != Hdf[col]).sum() for col in df_out.columns}\n",
    "band_unique = pd.Series(band_differences).sort_values(ascending=False)\n",
    "band_unique"
   ]
  },
  {
   "cell_type": "code",
   "execution_count": 25,
   "metadata": {},
   "outputs": [
    {
     "data": {
      "text/plain": [
       "Index(['FOCUS', 'EXPTIME', 'UTDATE', 'DECTEL', 'DECGS', 'OBJECT', 'OBSERVER',\n",
       "       'DATE', 'AZI', 'RAGS', 'RATEL', 'ALT', 'RAUSER', 'DECUSER'],\n",
       "      dtype='object')"
      ]
     },
     "execution_count": 25,
     "metadata": {},
     "output_type": "execute_result"
    }
   ],
   "source": [
    "band_unique[-14:].index"
   ]
  },
  {
   "cell_type": "code",
   "execution_count": 26,
   "metadata": {
    "collapsed": true
   },
   "outputs": [],
   "source": [
    "Kdf.drop(band_unique[-14:].index, axis=1, inplace=True)\n",
    "Kdf.drop(['DATE-OBS', 'DATE-END', 'ACQTIME', 'ACQTIME1', 'AMEND', 'AMSTART'], axis=1, inplace=True)"
   ]
  },
  {
   "cell_type": "code",
   "execution_count": 27,
   "metadata": {
    "collapsed": true
   },
   "outputs": [],
   "source": [
    "combined_df = pd.merge(Hdf, Kdf, how='outer', left_index=True, right_index=True, suffixes=('_H', '_K') )"
   ]
  },
  {
   "cell_type": "code",
   "execution_count": 28,
   "metadata": {},
   "outputs": [
    {
     "data": {
      "text/plain": [
       "Index(['filename_H', 'FITSFILE_H', 'AMEND', 'AMSTART', 'ACQTIME1', 'DATE-END',\n",
       "       'DATE-OBS', 'ACQTIME', 'ALT', 'OBJECT', 'FOCUS', 'OBSERVER', 'UTDATE',\n",
       "       'DATE', 'RAUSER', 'EXPTIME', 'RAGS', 'AZI', 'RATEL', 'DECUSER',\n",
       "       'DECTEL', 'DECGS', 'NAXIS2_H', 'filename_K', 'FITSFILE_K', 'NAXIS2_K'],\n",
       "      dtype='object')"
      ]
     },
     "execution_count": 28,
     "metadata": {},
     "output_type": "execute_result"
    }
   ],
   "source": [
    "combined_df.columns"
   ]
  },
  {
   "cell_type": "code",
   "execution_count": 29,
   "metadata": {
    "collapsed": true
   },
   "outputs": [],
   "source": [
    "combined_df.to_csv('../data/metadata/IGRINS_hdr_table.csv', index=False)"
   ]
  },
  {
   "cell_type": "markdown",
   "metadata": {},
   "source": [
    "The end."
   ]
  },
  {
   "cell_type": "markdown",
   "metadata": {},
   "source": [
    "<!--NAVIGATION-->\n",
    "< [Metadata](01.00-Metadata.ipynb) | [Contents](Index.ipynb) | [Period, Spectral Type, and multiplicity](01.02-Grankin2008_period_info.ipynb) >"
   ]
  }
 ],
 "metadata": {
  "kernelspec": {
   "display_name": "Python 3",
   "language": "python",
   "name": "python3"
  },
  "language_info": {
   "codemirror_mode": {
    "name": "ipython",
    "version": 3
   },
   "file_extension": ".py",
   "mimetype": "text/x-python",
   "name": "python",
   "nbconvert_exporter": "python",
   "pygments_lexer": "ipython3",
   "version": "3.6.6"
  }
 },
 "nbformat": 4,
 "nbformat_minor": 2
}
