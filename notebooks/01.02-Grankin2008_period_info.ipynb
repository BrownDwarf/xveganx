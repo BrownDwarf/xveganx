{
 "cells": [
  {
   "cell_type": "markdown",
   "metadata": {},
   "source": [
    "<!--BOOK_INFORMATION-->\n",
    "<img align=\"left\" style=\"padding-right:10px;\" src=\"figures/xveganx_icon.png\">\n",
    "*This notebook contains ongoing research material from [gully](https://twitter.com/gully_); the content is available [on GitHub](https://github.com/BrownDwarf/xveganx).*\n"
   ]
  },
  {
   "cell_type": "markdown",
   "metadata": {},
   "source": [
    "<!--NAVIGATION-->\n",
    "< [IGRINS FITS files](01.01-IGRINS_FITS_header_table.ipynb) | [Contents](Index.ipynb) | [All photometry in a flat table](01.03-Flat_table_photometry.ipynb) >"
   ]
  },
  {
   "cell_type": "markdown",
   "metadata": {},
   "source": [
    "# Period, Spectral Type, and multiplicity"
   ]
  },
  {
   "cell_type": "markdown",
   "metadata": {},
   "source": [
    "In this notebook we make an easy-to-use table of the Period, Spectral Type, and Multiplicity of the Grankin targets."
   ]
  },
  {
   "cell_type": "code",
   "execution_count": 1,
   "metadata": {
    "collapsed": true
   },
   "outputs": [],
   "source": [
    "import warnings\n",
    "warnings.filterwarnings(\"ignore\") # live dangerously\n",
    "import numpy as np"
   ]
  },
  {
   "cell_type": "code",
   "execution_count": 2,
   "metadata": {
    "collapsed": true
   },
   "outputs": [],
   "source": [
    "import pandas as pd"
   ]
  },
  {
   "cell_type": "code",
   "execution_count": 3,
   "metadata": {
    "collapsed": true
   },
   "outputs": [],
   "source": [
    "import sys\n",
    "import os"
   ]
  },
  {
   "cell_type": "markdown",
   "metadata": {},
   "source": [
    "## Copy the metadata from Grankin et al. 2008\n",
    "\n",
    "Clone my [ApJDataFrames repository](https://github.com/BrownDwarf/ApJdataFrames)/"
   ]
  },
  {
   "cell_type": "code",
   "execution_count": 4,
   "metadata": {
    "collapsed": true
   },
   "outputs": [],
   "source": [
    "usecols1 = ['Name', 'SpT', 'mult']\n",
    "tab1 = pd.read_csv('../../ApJdataFrames/data/Grankin08/table1_plus.csv', \n",
    "                   usecols=usecols1).rename(columns={'Name':'name'})\n",
    "tab1['name'] = tab1.name.str.rstrip()\n",
    "usecols3 = ['Name', 'Period']\n",
    "tab3 = pd.read_csv('../../ApJdataFrames/data/Grankin08/table3.csv', \n",
    "                   usecols=usecols3).rename(columns={'Name':'name'})\n",
    "tab3['name'] = tab3.name.str.rstrip().str.lstrip()"
   ]
  },
  {
   "cell_type": "code",
   "execution_count": 5,
   "metadata": {
    "collapsed": true
   },
   "outputs": [],
   "source": [
    "fn_df = pd.read_csv('../data/metadata/photometry_filenames.csv', usecols=['name'])"
   ]
  },
  {
   "cell_type": "code",
   "execution_count": 6,
   "metadata": {
    "collapsed": true
   },
   "outputs": [],
   "source": [
    "merge1 = pd.merge(fn_df, tab3, how='left', on='name')"
   ]
  },
  {
   "cell_type": "code",
   "execution_count": 7,
   "metadata": {
    "collapsed": true
   },
   "outputs": [],
   "source": [
    "merge2 = pd.merge(merge1, tab1, how='left', on='name')"
   ]
  },
  {
   "cell_type": "code",
   "execution_count": 8,
   "metadata": {},
   "outputs": [
    {
     "data": {
      "text/html": [
       "<div>\n",
       "<style>\n",
       "    .dataframe thead tr:only-child th {\n",
       "        text-align: right;\n",
       "    }\n",
       "\n",
       "    .dataframe thead th {\n",
       "        text-align: left;\n",
       "    }\n",
       "\n",
       "    .dataframe tbody tr th {\n",
       "        vertical-align: top;\n",
       "    }\n",
       "</style>\n",
       "<table border=\"1\" class=\"dataframe\">\n",
       "  <thead>\n",
       "    <tr style=\"text-align: right;\">\n",
       "      <th></th>\n",
       "      <th>name</th>\n",
       "      <th>Period</th>\n",
       "      <th>SpT</th>\n",
       "      <th>mult</th>\n",
       "    </tr>\n",
       "  </thead>\n",
       "  <tbody>\n",
       "    <tr>\n",
       "      <th>0</th>\n",
       "      <td>Anon 1</td>\n",
       "      <td>6.49300</td>\n",
       "      <td>M0</td>\n",
       "      <td></td>\n",
       "    </tr>\n",
       "    <tr>\n",
       "      <th>1</th>\n",
       "      <td>HD 283572</td>\n",
       "      <td>1.52900</td>\n",
       "      <td>G6 IV</td>\n",
       "      <td></td>\n",
       "    </tr>\n",
       "    <tr>\n",
       "      <th>2</th>\n",
       "      <td>Hubble 4</td>\n",
       "      <td>NaN</td>\n",
       "      <td>K7</td>\n",
       "      <td></td>\n",
       "    </tr>\n",
       "    <tr>\n",
       "      <th>3</th>\n",
       "      <td>LkCa 1</td>\n",
       "      <td>2.49700</td>\n",
       "      <td>M4</td>\n",
       "      <td></td>\n",
       "    </tr>\n",
       "    <tr>\n",
       "      <th>4</th>\n",
       "      <td>LkCa 4</td>\n",
       "      <td>3.37400</td>\n",
       "      <td>K7</td>\n",
       "      <td></td>\n",
       "    </tr>\n",
       "    <tr>\n",
       "      <th>5</th>\n",
       "      <td>LkCa 7</td>\n",
       "      <td>5.66380</td>\n",
       "      <td>K7</td>\n",
       "      <td>VB(1.02)</td>\n",
       "    </tr>\n",
       "    <tr>\n",
       "      <th>6</th>\n",
       "      <td>LkCa 14</td>\n",
       "      <td>NaN</td>\n",
       "      <td>M0</td>\n",
       "      <td></td>\n",
       "    </tr>\n",
       "    <tr>\n",
       "      <th>7</th>\n",
       "      <td>LkCa 16</td>\n",
       "      <td>NaN</td>\n",
       "      <td>K7</td>\n",
       "      <td>VB(0.29)</td>\n",
       "    </tr>\n",
       "    <tr>\n",
       "      <th>8</th>\n",
       "      <td>LkCa 19</td>\n",
       "      <td>2.23600</td>\n",
       "      <td>K0</td>\n",
       "      <td></td>\n",
       "    </tr>\n",
       "    <tr>\n",
       "      <th>9</th>\n",
       "      <td>TAP 35</td>\n",
       "      <td>2.73400</td>\n",
       "      <td>K1</td>\n",
       "      <td></td>\n",
       "    </tr>\n",
       "    <tr>\n",
       "      <th>10</th>\n",
       "      <td>TAP 41</td>\n",
       "      <td>2.42500</td>\n",
       "      <td>K7</td>\n",
       "      <td></td>\n",
       "    </tr>\n",
       "    <tr>\n",
       "      <th>11</th>\n",
       "      <td>TAP 45</td>\n",
       "      <td>9.90900</td>\n",
       "      <td>K7</td>\n",
       "      <td></td>\n",
       "    </tr>\n",
       "    <tr>\n",
       "      <th>12</th>\n",
       "      <td>V819 Tau</td>\n",
       "      <td>5.53113</td>\n",
       "      <td>K7</td>\n",
       "      <td>VB(10.5)</td>\n",
       "    </tr>\n",
       "    <tr>\n",
       "      <th>13</th>\n",
       "      <td>V826 Tau</td>\n",
       "      <td>NaN</td>\n",
       "      <td>K7</td>\n",
       "      <td>SB($P=3.9$d)</td>\n",
       "    </tr>\n",
       "    <tr>\n",
       "      <th>14</th>\n",
       "      <td>V827 Tau</td>\n",
       "      <td>3.75837</td>\n",
       "      <td>K7</td>\n",
       "      <td></td>\n",
       "    </tr>\n",
       "    <tr>\n",
       "      <th>15</th>\n",
       "      <td>V836 Tau</td>\n",
       "      <td>6.75791</td>\n",
       "      <td>K7</td>\n",
       "      <td></td>\n",
       "    </tr>\n",
       "  </tbody>\n",
       "</table>\n",
       "</div>"
      ],
      "text/plain": [
       "         name   Period      SpT            mult\n",
       "0      Anon 1  6.49300   M0                    \n",
       "1   HD 283572  1.52900   G6 IV                 \n",
       "2    Hubble 4      NaN   K7                    \n",
       "3      LkCa 1  2.49700   M4                    \n",
       "4      LkCa 4  3.37400   K7                    \n",
       "5      LkCa 7  5.66380   K7           VB(1.02) \n",
       "6     LkCa 14      NaN   M0                    \n",
       "7     LkCa 16      NaN   K7           VB(0.29) \n",
       "8     LkCa 19  2.23600   K0                    \n",
       "9      TAP 35  2.73400   K1                    \n",
       "10     TAP 41  2.42500   K7                    \n",
       "11     TAP 45  9.90900   K7                    \n",
       "12   V819 Tau  5.53113   K7           VB(10.5) \n",
       "13   V826 Tau      NaN   K7       SB($P=3.9$d) \n",
       "14   V827 Tau  3.75837   K7                    \n",
       "15   V836 Tau  6.75791   K7                    "
      ]
     },
     "execution_count": 8,
     "metadata": {},
     "output_type": "execute_result"
    }
   ],
   "source": [
    "merge2"
   ]
  },
  {
   "cell_type": "code",
   "execution_count": 9,
   "metadata": {
    "collapsed": true
   },
   "outputs": [],
   "source": [
    "merge2.to_csv('../data/metadata/Grankin08_physical.csv', index=False)"
   ]
  },
  {
   "cell_type": "markdown",
   "metadata": {},
   "source": [
    "### The end"
   ]
  },
  {
   "cell_type": "markdown",
   "metadata": {},
   "source": [
    "<!--NAVIGATION-->\n",
    "< [IGRINS FITS files](01.01-IGRINS_FITS_header_table.ipynb) | [Contents](Index.ipynb) | [All photometry in a flat table](01.03-Flat_table_photometry.ipynb) >"
   ]
  }
 ],
 "metadata": {
  "kernelspec": {
   "display_name": "Python 3",
   "language": "python",
   "name": "python3"
  },
  "language_info": {
   "codemirror_mode": {
    "name": "ipython",
    "version": 3
   },
   "file_extension": ".py",
   "mimetype": "text/x-python",
   "name": "python",
   "nbconvert_exporter": "python",
   "pygments_lexer": "ipython3",
   "version": "3.6.2"
  }
 },
 "nbformat": 4,
 "nbformat_minor": 1
}
