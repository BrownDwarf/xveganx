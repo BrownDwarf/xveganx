{
 "cells": [
  {
   "cell_type": "markdown",
   "metadata": {},
   "source": [
    "<!--BOOK_INFORMATION-->\n",
    "<img align=\"left\" style=\"padding-right:10px;\" src=\"figures/xveganx_icon.png\">\n",
    "*This notebook contains ongoing research material from [gully](https://twitter.com/gully_); the content is available [on GitHub](https://github.com/BrownDwarf/xveganx).*\n"
   ]
  },
  {
   "cell_type": "markdown",
   "metadata": {},
   "source": [
    "<!--NAVIGATION-->\n",
    "< [All photometry in a flat table](01.03-Flat_table_photometry.ipynb) | [Contents](Index.ipynb) | [Spectral cleaning](02.00-Clean-IGRINS-spectra.ipynb) >"
   ]
  },
  {
   "cell_type": "markdown",
   "metadata": {},
   "source": [
    "# Seasonal and yearly photometry metadata"
   ]
  },
  {
   "cell_type": "code",
   "execution_count": 1,
   "metadata": {
    "collapsed": true
   },
   "outputs": [],
   "source": [
    "import warnings\n",
    "warnings.filterwarnings(\"ignore\")\n",
    "import numpy as np"
   ]
  },
  {
   "cell_type": "code",
   "execution_count": 2,
   "metadata": {
    "collapsed": true
   },
   "outputs": [],
   "source": [
    "import pandas as pd"
   ]
  },
  {
   "cell_type": "code",
   "execution_count": 3,
   "metadata": {
    "collapsed": true
   },
   "outputs": [],
   "source": [
    "import sys\n",
    "import os"
   ]
  },
  {
   "cell_type": "code",
   "execution_count": 4,
   "metadata": {
    "collapsed": true
   },
   "outputs": [],
   "source": [
    "sys.path.append(os.path.abspath(\"../code/\"))"
   ]
  },
  {
   "cell_type": "code",
   "execution_count": 5,
   "metadata": {
    "collapsed": true
   },
   "outputs": [],
   "source": [
    "from xphotometryx import master_photometry\n",
    "from xphotometryx import seasonal_aggregation"
   ]
  },
  {
   "cell_type": "code",
   "execution_count": 6,
   "metadata": {
    "collapsed": true
   },
   "outputs": [],
   "source": [
    "master_all = master_photometry()"
   ]
  },
  {
   "cell_type": "code",
   "execution_count": 7,
   "metadata": {},
   "outputs": [
    {
     "data": {
      "text/plain": [
       "array(['Anon 1', 'HD 283572', 'Hubble 4', 'LkCa 1', 'LkCa 4', 'LkCa 7',\n",
       "       'LkCa 14', 'LkCa 16', 'LkCa 19', 'TAP 35', 'TAP 41', 'TAP 45',\n",
       "       'V819 Tau', 'V826 Tau', 'V827 Tau', 'V836 Tau'], dtype=object)"
      ]
     },
     "execution_count": 7,
     "metadata": {},
     "output_type": "execute_result"
    }
   ],
   "source": [
    "master_all.object.unique()"
   ]
  },
  {
   "cell_type": "code",
   "execution_count": 8,
   "metadata": {
    "collapsed": true
   },
   "outputs": [],
   "source": [
    "this_name = 'V819 Tau'"
   ]
  },
  {
   "cell_type": "code",
   "execution_count": 9,
   "metadata": {
    "collapsed": true
   },
   "outputs": [],
   "source": [
    "master = master_all[master_all.object == this_name].reset_index(drop=True)"
   ]
  },
  {
   "cell_type": "code",
   "execution_count": 10,
   "metadata": {
    "collapsed": true
   },
   "outputs": [],
   "source": [
    "season_agg = seasonal_aggregation(master, this_name)"
   ]
  },
  {
   "cell_type": "code",
   "execution_count": 11,
   "metadata": {},
   "outputs": [
    {
     "data": {
      "text/html": [
       "<div>\n",
       "<style>\n",
       "    .dataframe thead tr:only-child th {\n",
       "        text-align: right;\n",
       "    }\n",
       "\n",
       "    .dataframe thead th {\n",
       "        text-align: left;\n",
       "    }\n",
       "\n",
       "    .dataframe tbody tr th {\n",
       "        vertical-align: top;\n",
       "    }\n",
       "</style>\n",
       "<table border=\"1\" class=\"dataframe\">\n",
       "  <thead>\n",
       "    <tr style=\"text-align: right;\">\n",
       "      <th></th>\n",
       "      <th>season</th>\n",
       "      <th>N_U</th>\n",
       "      <th>N_B</th>\n",
       "      <th>N_V</th>\n",
       "      <th>N_R</th>\n",
       "      <th>JD_min</th>\n",
       "      <th>JD_max</th>\n",
       "      <th>length</th>\n",
       "      <th>years</th>\n",
       "      <th>P_est1</th>\n",
       "      <th>P_err1</th>\n",
       "    </tr>\n",
       "  </thead>\n",
       "  <tbody>\n",
       "    <tr>\n",
       "      <th>0</th>\n",
       "      <td>6</td>\n",
       "      <td>8</td>\n",
       "      <td>57</td>\n",
       "      <td>57</td>\n",
       "      <td>49</td>\n",
       "      <td>2.448126e+06</td>\n",
       "      <td>2.448271e+06</td>\n",
       "      <td>145.0</td>\n",
       "      <td>8/1990-1/1991</td>\n",
       "      <td>5.53113</td>\n",
       "      <td>0.1</td>\n",
       "    </tr>\n",
       "    <tr>\n",
       "      <th>1</th>\n",
       "      <td>7</td>\n",
       "      <td>3</td>\n",
       "      <td>37</td>\n",
       "      <td>37</td>\n",
       "      <td>20</td>\n",
       "      <td>2.448485e+06</td>\n",
       "      <td>2.448572e+06</td>\n",
       "      <td>87.0</td>\n",
       "      <td>8/1991-11/1991</td>\n",
       "      <td>5.53113</td>\n",
       "      <td>0.1</td>\n",
       "    </tr>\n",
       "    <tr>\n",
       "      <th>2</th>\n",
       "      <td>8</td>\n",
       "      <td>0</td>\n",
       "      <td>42</td>\n",
       "      <td>42</td>\n",
       "      <td>9</td>\n",
       "      <td>2.448844e+06</td>\n",
       "      <td>2.448956e+06</td>\n",
       "      <td>112.0</td>\n",
       "      <td>8/1992-11/1992</td>\n",
       "      <td>5.53113</td>\n",
       "      <td>0.1</td>\n",
       "    </tr>\n",
       "    <tr>\n",
       "      <th>3</th>\n",
       "      <td>9</td>\n",
       "      <td>2</td>\n",
       "      <td>25</td>\n",
       "      <td>25</td>\n",
       "      <td>19</td>\n",
       "      <td>2.449226e+06</td>\n",
       "      <td>2.449277e+06</td>\n",
       "      <td>51.0</td>\n",
       "      <td>8/1993-10/1993</td>\n",
       "      <td>5.53113</td>\n",
       "      <td>0.1</td>\n",
       "    </tr>\n",
       "    <tr>\n",
       "      <th>4</th>\n",
       "      <td>10</td>\n",
       "      <td>2</td>\n",
       "      <td>25</td>\n",
       "      <td>25</td>\n",
       "      <td>24</td>\n",
       "      <td>2.449575e+06</td>\n",
       "      <td>2.449640e+06</td>\n",
       "      <td>65.0</td>\n",
       "      <td>8/1994-10/1994</td>\n",
       "      <td>5.53113</td>\n",
       "      <td>0.1</td>\n",
       "    </tr>\n",
       "    <tr>\n",
       "      <th>5</th>\n",
       "      <td>11</td>\n",
       "      <td>3</td>\n",
       "      <td>26</td>\n",
       "      <td>26</td>\n",
       "      <td>24</td>\n",
       "      <td>2.449941e+06</td>\n",
       "      <td>2.450022e+06</td>\n",
       "      <td>81.0</td>\n",
       "      <td>8/1995-10/1995</td>\n",
       "      <td>5.53113</td>\n",
       "      <td>0.1</td>\n",
       "    </tr>\n",
       "    <tr>\n",
       "      <th>6</th>\n",
       "      <td>12</td>\n",
       "      <td>0</td>\n",
       "      <td>16</td>\n",
       "      <td>16</td>\n",
       "      <td>16</td>\n",
       "      <td>2.450365e+06</td>\n",
       "      <td>2.450417e+06</td>\n",
       "      <td>53.0</td>\n",
       "      <td>10/1996-11/1996</td>\n",
       "      <td>5.53113</td>\n",
       "      <td>0.1</td>\n",
       "    </tr>\n",
       "    <tr>\n",
       "      <th>7</th>\n",
       "      <td>13</td>\n",
       "      <td>0</td>\n",
       "      <td>21</td>\n",
       "      <td>21</td>\n",
       "      <td>21</td>\n",
       "      <td>2.450716e+06</td>\n",
       "      <td>2.450760e+06</td>\n",
       "      <td>45.0</td>\n",
       "      <td>9/1997-11/1997</td>\n",
       "      <td>5.53113</td>\n",
       "      <td>0.1</td>\n",
       "    </tr>\n",
       "    <tr>\n",
       "      <th>8</th>\n",
       "      <td>14</td>\n",
       "      <td>0</td>\n",
       "      <td>7</td>\n",
       "      <td>7</td>\n",
       "      <td>7</td>\n",
       "      <td>2.451139e+06</td>\n",
       "      <td>2.451165e+06</td>\n",
       "      <td>27.0</td>\n",
       "      <td>11/1998-12/1998</td>\n",
       "      <td>5.53113</td>\n",
       "      <td>0.1</td>\n",
       "    </tr>\n",
       "    <tr>\n",
       "      <th>9</th>\n",
       "      <td>15</td>\n",
       "      <td>4</td>\n",
       "      <td>36</td>\n",
       "      <td>36</td>\n",
       "      <td>36</td>\n",
       "      <td>2.451408e+06</td>\n",
       "      <td>2.451529e+06</td>\n",
       "      <td>121.0</td>\n",
       "      <td>8/1999-12/1999</td>\n",
       "      <td>5.53113</td>\n",
       "      <td>0.1</td>\n",
       "    </tr>\n",
       "    <tr>\n",
       "      <th>10</th>\n",
       "      <td>16</td>\n",
       "      <td>0</td>\n",
       "      <td>17</td>\n",
       "      <td>17</td>\n",
       "      <td>17</td>\n",
       "      <td>2.451782e+06</td>\n",
       "      <td>2.451841e+06</td>\n",
       "      <td>59.0</td>\n",
       "      <td>8/2000-10/2000</td>\n",
       "      <td>5.53113</td>\n",
       "      <td>0.1</td>\n",
       "    </tr>\n",
       "    <tr>\n",
       "      <th>11</th>\n",
       "      <td>17</td>\n",
       "      <td>0</td>\n",
       "      <td>18</td>\n",
       "      <td>18</td>\n",
       "      <td>17</td>\n",
       "      <td>2.452130e+06</td>\n",
       "      <td>2.452234e+06</td>\n",
       "      <td>104.0</td>\n",
       "      <td>8/2001-11/2001</td>\n",
       "      <td>5.53113</td>\n",
       "      <td>0.1</td>\n",
       "    </tr>\n",
       "    <tr>\n",
       "      <th>12</th>\n",
       "      <td>18</td>\n",
       "      <td>0</td>\n",
       "      <td>12</td>\n",
       "      <td>12</td>\n",
       "      <td>12</td>\n",
       "      <td>2.452557e+06</td>\n",
       "      <td>2.452609e+06</td>\n",
       "      <td>52.0</td>\n",
       "      <td>10/2002-11/2002</td>\n",
       "      <td>5.53113</td>\n",
       "      <td>0.1</td>\n",
       "    </tr>\n",
       "    <tr>\n",
       "      <th>13</th>\n",
       "      <td>19</td>\n",
       "      <td>0</td>\n",
       "      <td>12</td>\n",
       "      <td>12</td>\n",
       "      <td>12</td>\n",
       "      <td>2.452876e+06</td>\n",
       "      <td>2.453028e+06</td>\n",
       "      <td>152.0</td>\n",
       "      <td>8/2003-1/2004</td>\n",
       "      <td>5.53113</td>\n",
       "      <td>0.1</td>\n",
       "    </tr>\n",
       "    <tr>\n",
       "      <th>14</th>\n",
       "      <td>20</td>\n",
       "      <td>0</td>\n",
       "      <td>12</td>\n",
       "      <td>12</td>\n",
       "      <td>12</td>\n",
       "      <td>2.453258e+06</td>\n",
       "      <td>2.453272e+06</td>\n",
       "      <td>15.0</td>\n",
       "      <td>9/2004-9/2004</td>\n",
       "      <td>5.53113</td>\n",
       "      <td>0.1</td>\n",
       "    </tr>\n",
       "    <tr>\n",
       "      <th>15</th>\n",
       "      <td>29</td>\n",
       "      <td>0</td>\n",
       "      <td>0</td>\n",
       "      <td>15</td>\n",
       "      <td>0</td>\n",
       "      <td>2.456594e+06</td>\n",
       "      <td>2.456741e+06</td>\n",
       "      <td>147.0</td>\n",
       "      <td>10/2013-3/2014</td>\n",
       "      <td>5.53113</td>\n",
       "      <td>0.1</td>\n",
       "    </tr>\n",
       "    <tr>\n",
       "      <th>16</th>\n",
       "      <td>30</td>\n",
       "      <td>0</td>\n",
       "      <td>0</td>\n",
       "      <td>74</td>\n",
       "      <td>0</td>\n",
       "      <td>2.456852e+06</td>\n",
       "      <td>2.457092e+06</td>\n",
       "      <td>240.0</td>\n",
       "      <td>7/2014-3/2015</td>\n",
       "      <td>5.53113</td>\n",
       "      <td>0.1</td>\n",
       "    </tr>\n",
       "    <tr>\n",
       "      <th>17</th>\n",
       "      <td>31</td>\n",
       "      <td>0</td>\n",
       "      <td>0</td>\n",
       "      <td>81</td>\n",
       "      <td>0</td>\n",
       "      <td>2.457219e+06</td>\n",
       "      <td>2.457460e+06</td>\n",
       "      <td>241.0</td>\n",
       "      <td>7/2015-3/2016</td>\n",
       "      <td>5.53113</td>\n",
       "      <td>0.1</td>\n",
       "    </tr>\n",
       "    <tr>\n",
       "      <th>18</th>\n",
       "      <td>32</td>\n",
       "      <td>0</td>\n",
       "      <td>0</td>\n",
       "      <td>70</td>\n",
       "      <td>0</td>\n",
       "      <td>2.457584e+06</td>\n",
       "      <td>2.457824e+06</td>\n",
       "      <td>240.0</td>\n",
       "      <td>7/2016-3/2017</td>\n",
       "      <td>5.53113</td>\n",
       "      <td>0.1</td>\n",
       "    </tr>\n",
       "    <tr>\n",
       "      <th>19</th>\n",
       "      <td>33</td>\n",
       "      <td>0</td>\n",
       "      <td>0</td>\n",
       "      <td>2</td>\n",
       "      <td>0</td>\n",
       "      <td>2.457960e+06</td>\n",
       "      <td>2.457965e+06</td>\n",
       "      <td>5.0</td>\n",
       "      <td>7/2017-7/2017</td>\n",
       "      <td>5.53113</td>\n",
       "      <td>0.1</td>\n",
       "    </tr>\n",
       "  </tbody>\n",
       "</table>\n",
       "</div>"
      ],
      "text/plain": [
       "    season  N_U  N_B  N_V  N_R        JD_min        JD_max  length  \\\n",
       "0        6    8   57   57   49  2.448126e+06  2.448271e+06   145.0   \n",
       "1        7    3   37   37   20  2.448485e+06  2.448572e+06    87.0   \n",
       "2        8    0   42   42    9  2.448844e+06  2.448956e+06   112.0   \n",
       "3        9    2   25   25   19  2.449226e+06  2.449277e+06    51.0   \n",
       "4       10    2   25   25   24  2.449575e+06  2.449640e+06    65.0   \n",
       "5       11    3   26   26   24  2.449941e+06  2.450022e+06    81.0   \n",
       "6       12    0   16   16   16  2.450365e+06  2.450417e+06    53.0   \n",
       "7       13    0   21   21   21  2.450716e+06  2.450760e+06    45.0   \n",
       "8       14    0    7    7    7  2.451139e+06  2.451165e+06    27.0   \n",
       "9       15    4   36   36   36  2.451408e+06  2.451529e+06   121.0   \n",
       "10      16    0   17   17   17  2.451782e+06  2.451841e+06    59.0   \n",
       "11      17    0   18   18   17  2.452130e+06  2.452234e+06   104.0   \n",
       "12      18    0   12   12   12  2.452557e+06  2.452609e+06    52.0   \n",
       "13      19    0   12   12   12  2.452876e+06  2.453028e+06   152.0   \n",
       "14      20    0   12   12   12  2.453258e+06  2.453272e+06    15.0   \n",
       "15      29    0    0   15    0  2.456594e+06  2.456741e+06   147.0   \n",
       "16      30    0    0   74    0  2.456852e+06  2.457092e+06   240.0   \n",
       "17      31    0    0   81    0  2.457219e+06  2.457460e+06   241.0   \n",
       "18      32    0    0   70    0  2.457584e+06  2.457824e+06   240.0   \n",
       "19      33    0    0    2    0  2.457960e+06  2.457965e+06     5.0   \n",
       "\n",
       "              years   P_est1  P_err1  \n",
       "0     8/1990-1/1991  5.53113     0.1  \n",
       "1    8/1991-11/1991  5.53113     0.1  \n",
       "2    8/1992-11/1992  5.53113     0.1  \n",
       "3    8/1993-10/1993  5.53113     0.1  \n",
       "4    8/1994-10/1994  5.53113     0.1  \n",
       "5    8/1995-10/1995  5.53113     0.1  \n",
       "6   10/1996-11/1996  5.53113     0.1  \n",
       "7    9/1997-11/1997  5.53113     0.1  \n",
       "8   11/1998-12/1998  5.53113     0.1  \n",
       "9    8/1999-12/1999  5.53113     0.1  \n",
       "10   8/2000-10/2000  5.53113     0.1  \n",
       "11   8/2001-11/2001  5.53113     0.1  \n",
       "12  10/2002-11/2002  5.53113     0.1  \n",
       "13    8/2003-1/2004  5.53113     0.1  \n",
       "14    9/2004-9/2004  5.53113     0.1  \n",
       "15   10/2013-3/2014  5.53113     0.1  \n",
       "16    7/2014-3/2015  5.53113     0.1  \n",
       "17    7/2015-3/2016  5.53113     0.1  \n",
       "18    7/2016-3/2017  5.53113     0.1  \n",
       "19    7/2017-7/2017  5.53113     0.1  "
      ]
     },
     "execution_count": 11,
     "metadata": {},
     "output_type": "execute_result"
    }
   ],
   "source": [
    "season_agg"
   ]
  },
  {
   "cell_type": "markdown",
   "metadata": {},
   "source": [
    "## The end"
   ]
  },
  {
   "cell_type": "markdown",
   "metadata": {},
   "source": [
    "<!--NAVIGATION-->\n",
    "< [All photometry in a flat table](01.03-Flat_table_photometry.ipynb) | [Contents](Index.ipynb) | [Spectral cleaning](02.00-Clean-IGRINS-spectra.ipynb) >"
   ]
  }
 ],
 "metadata": {
  "kernelspec": {
   "display_name": "Python 3",
   "language": "python",
   "name": "python3"
  },
  "language_info": {
   "codemirror_mode": {
    "name": "ipython",
    "version": 3
   },
   "file_extension": ".py",
   "mimetype": "text/x-python",
   "name": "python",
   "nbconvert_exporter": "python",
   "pygments_lexer": "ipython3",
   "version": "3.6.2"
  }
 },
 "nbformat": 4,
 "nbformat_minor": 1
}
