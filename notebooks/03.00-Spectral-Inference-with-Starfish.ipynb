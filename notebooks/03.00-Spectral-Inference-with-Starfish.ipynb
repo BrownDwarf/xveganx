{
 "cells": [
  {
   "cell_type": "markdown",
   "metadata": {},
   "source": [
    "<!--BOOK_INFORMATION-->\n",
    "<img align=\"left\" style=\"padding-right:10px;\" src=\"figures/xveganx_icon.png\">\n",
    "*This notebook contains ongoing research material from [gully](https://twitter.com/gully_); the content is available [on GitHub](https://github.com/BrownDwarf/xveganx).*\n"
   ]
  },
  {
   "cell_type": "markdown",
   "metadata": {},
   "source": [
    "<!--NAVIGATION-->\n",
    "< [V827 Manual IGRINS spectrum cleaning](02.03-V827-manual-cleaning.ipynb) | [Contents](Index.ipynb) | [Spotcheck mixture model of Anon1](03.01-Mixture-model-Anon1-spot-check.ipynb) >"
   ]
  },
  {
   "cell_type": "markdown",
   "metadata": {},
   "source": [
    "# Spectral inference with Starfish Mixture Models"
   ]
  },
  {
   "cell_type": "markdown",
   "metadata": {},
   "source": [
    "In this Chapter we run Starfish mixture models to try to spectroscopically detect starspots."
   ]
  },
  {
   "cell_type": "markdown",
   "metadata": {},
   "source": [
    "<!--NAVIGATION-->\n",
    "< [V827 Manual IGRINS spectrum cleaning](02.03-V827-manual-cleaning.ipynb) | [Contents](Index.ipynb) | [Spotcheck mixture model of Anon1](03.01-Mixture-model-Anon1-spot-check.ipynb) >"
   ]
  }
 ],
 "metadata": {
  "kernelspec": {
   "display_name": "Python 3",
   "language": "python",
   "name": "python3"
  },
  "language_info": {
   "codemirror_mode": {
    "name": "ipython",
    "version": 3
   },
   "file_extension": ".py",
   "mimetype": "text/x-python",
   "name": "python",
   "nbconvert_exporter": "python",
   "pygments_lexer": "ipython3",
   "version": "3.6.2"
  }
 },
 "nbformat": 4,
 "nbformat_minor": 2
}
