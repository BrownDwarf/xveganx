{
 "cells": [
  {
   "cell_type": "markdown",
   "metadata": {},
   "source": [
    "# `xveganx`\n",
    "## Chapter 4: Photometry\n",
    "### Part I. Retrieve ASASSN data\n",
    "\n",
    "In this notebook we will fetch recently-released ASASSN data.  Here is the Grankin-selected sample with IGRINS data available.  We will go to the [ASASSN Website](https://asas-sn.osu.edu/) to retrieve lightcurves for all of these."
   ]
  },
  {
   "cell_type": "markdown",
   "metadata": {},
   "source": [
    "|Source| ASASSN Available?| ASASSN Retrieved?|\n",
    "|--|--|--|\n",
    "|Anon 1| Y | Y |\n",
    "|HD 283572| Y | Y |\n",
    "|Hubble 4| Y | Y |\n",
    "|LkCa 1| Y | Y |\n",
    "|LkCa 4| Y | Y |\n",
    "|LkCa 7| Y | Y |\n",
    "|LkCa 14| Y | Y |\n",
    "|LkCa 16| Y | Y |\n",
    "|LkCa 19| Y | Y |\n",
    "|TAP 35| Y | Y |\n",
    "|TAP 41| Y | Y |\n",
    "|TAP 45| Y | Y |\n",
    "|V819 Tau| Y | Y |\n",
    "|V826 Tau| Y | Y |\n",
    "|V827 Tau| Y | Y |\n",
    "|V836 Tau| Y | Y |"
   ]
  },
  {
   "cell_type": "markdown",
   "metadata": {
    "collapsed": true
   },
   "source": [
    "This process is very manual-- you can only download one-at-a-time, and the captcha requires you to repeatedly verify you are a human.\n"
   ]
  },
  {
   "cell_type": "code",
   "execution_count": 1,
   "metadata": {},
   "outputs": [
    {
     "name": "stdout",
     "output_type": "stream",
     "text": [
      "ANON1_ASASSN_20170803.csv     LkCa7_ASASSN_20170803.csv\r\n",
      "HD_283572_ASASSN_20170803.csv TAP35_ASASSN_20170803.csv\r\n",
      "HUBBLE4_ASASSN_20170803.csv   TAP41_ASASSN_20170803.csv\r\n",
      "LkCa14_ASASSN_20170803.csv    TAP45_ASASSN_20170803.csv\r\n",
      "LkCa16_ASASSN_20170803.csv    V819Tau_ASASSN_20170803.csv\r\n",
      "LkCa19_ASASSN_20170803.csv    V826Tau_ASASSN_20170803.csv\r\n",
      "LkCa1_ASASSN_20170803.csv     V827Tau_ASASSN_20170803.csv\r\n",
      "LkCa4_ASASSN_20170803.csv     V836Tau_ASASSN_20170803.csv\r\n"
     ]
    }
   ],
   "source": [
    "! ls ../data/ASASSN/"
   ]
  },
  {
   "cell_type": "code",
   "execution_count": 2,
   "metadata": {
    "collapsed": true
   },
   "outputs": [],
   "source": [
    "import pandas as pd"
   ]
  },
  {
   "cell_type": "code",
   "execution_count": 3,
   "metadata": {},
   "outputs": [
    {
     "data": {
      "text/html": [
       "<div>\n",
       "<style>\n",
       "    .dataframe thead tr:only-child th {\n",
       "        text-align: right;\n",
       "    }\n",
       "\n",
       "    .dataframe thead th {\n",
       "        text-align: left;\n",
       "    }\n",
       "\n",
       "    .dataframe tbody tr th {\n",
       "        vertical-align: top;\n",
       "    }\n",
       "</style>\n",
       "<table border=\"1\" class=\"dataframe\">\n",
       "  <thead>\n",
       "    <tr style=\"text-align: right;\">\n",
       "      <th></th>\n",
       "      <th>HJD</th>\n",
       "      <th>UT Date</th>\n",
       "      <th>Camera</th>\n",
       "      <th>FWHM</th>\n",
       "      <th>Limit</th>\n",
       "      <th>mag</th>\n",
       "      <th>mag_err</th>\n",
       "      <th>flux(mJy)</th>\n",
       "      <th>flux_err</th>\n",
       "    </tr>\n",
       "  </thead>\n",
       "  <tbody>\n",
       "    <tr>\n",
       "      <th>0</th>\n",
       "      <td>2.456593e+06</td>\n",
       "      <td>2013-10-27.4581633</td>\n",
       "      <td>bd</td>\n",
       "      <td>1.68</td>\n",
       "      <td>16.316</td>\n",
       "      <td>13.515</td>\n",
       "      <td>0.021</td>\n",
       "      <td>15.051</td>\n",
       "      <td>0.280</td>\n",
       "    </tr>\n",
       "    <tr>\n",
       "      <th>1</th>\n",
       "      <td>2.456593e+06</td>\n",
       "      <td>2013-10-27.4595334</td>\n",
       "      <td>bd</td>\n",
       "      <td>1.87</td>\n",
       "      <td>16.334</td>\n",
       "      <td>13.527</td>\n",
       "      <td>0.020</td>\n",
       "      <td>14.903</td>\n",
       "      <td>0.278</td>\n",
       "    </tr>\n",
       "    <tr>\n",
       "      <th>2</th>\n",
       "      <td>2.456616e+06</td>\n",
       "      <td>2013-11-19.3175444</td>\n",
       "      <td>bd</td>\n",
       "      <td>1.52</td>\n",
       "      <td>15.559</td>\n",
       "      <td>13.494</td>\n",
       "      <td>0.035</td>\n",
       "      <td>15.347</td>\n",
       "      <td>0.492</td>\n",
       "    </tr>\n",
       "    <tr>\n",
       "      <th>3</th>\n",
       "      <td>2.456616e+06</td>\n",
       "      <td>2013-11-19.3189495</td>\n",
       "      <td>bd</td>\n",
       "      <td>1.43</td>\n",
       "      <td>15.644</td>\n",
       "      <td>13.448</td>\n",
       "      <td>0.032</td>\n",
       "      <td>16.028</td>\n",
       "      <td>0.464</td>\n",
       "    </tr>\n",
       "    <tr>\n",
       "      <th>4</th>\n",
       "      <td>2.456618e+06</td>\n",
       "      <td>2013-11-21.3219506</td>\n",
       "      <td>bd</td>\n",
       "      <td>1.56</td>\n",
       "      <td>NaN</td>\n",
       "      <td>NaN</td>\n",
       "      <td>NaN</td>\n",
       "      <td>NaN</td>\n",
       "      <td>NaN</td>\n",
       "    </tr>\n",
       "  </tbody>\n",
       "</table>\n",
       "</div>"
      ],
      "text/plain": [
       "            HJD             UT Date Camera  FWHM   Limit     mag  mag_err  \\\n",
       "0  2.456593e+06  2013-10-27.4581633     bd  1.68  16.316  13.515    0.021   \n",
       "1  2.456593e+06  2013-10-27.4595334     bd  1.87  16.334  13.527    0.020   \n",
       "2  2.456616e+06  2013-11-19.3175444     bd  1.52  15.559  13.494    0.035   \n",
       "3  2.456616e+06  2013-11-19.3189495     bd  1.43  15.644  13.448    0.032   \n",
       "4  2.456618e+06  2013-11-21.3219506     bd  1.56     NaN     NaN      NaN   \n",
       "\n",
       "   flux(mJy)  flux_err  \n",
       "0     15.051     0.280  \n",
       "1     14.903     0.278  \n",
       "2     15.347     0.492  \n",
       "3     16.028     0.464  \n",
       "4        NaN       NaN  "
      ]
     },
     "execution_count": 3,
     "metadata": {},
     "output_type": "execute_result"
    }
   ],
   "source": [
    "dat = pd.read_csv('../data/ASASSN/ANON1_ASASSN_20170803.csv', na_values=99.990)\n",
    "dat.head()"
   ]
  },
  {
   "cell_type": "code",
   "execution_count": 4,
   "metadata": {},
   "outputs": [
    {
     "data": {
      "text/plain": [
       "Index(['HJD', 'UT Date', 'Camera', 'FWHM', 'Limit', 'mag', 'mag_err',\n",
       "       'flux(mJy)', 'flux_err'],\n",
       "      dtype='object')"
      ]
     },
     "execution_count": 4,
     "metadata": {},
     "output_type": "execute_result"
    }
   ],
   "source": [
    "dat.columns"
   ]
  },
  {
   "cell_type": "markdown",
   "metadata": {},
   "source": [
    "The end!"
   ]
  }
 ],
 "metadata": {
  "kernelspec": {
   "display_name": "Python 3",
   "language": "python",
   "name": "python3"
  },
  "language_info": {
   "codemirror_mode": {
    "name": "ipython",
    "version": 3
   },
   "file_extension": ".py",
   "mimetype": "text/x-python",
   "name": "python",
   "nbconvert_exporter": "python",
   "pygments_lexer": "ipython3",
   "version": "3.6.1"
  }
 },
 "nbformat": 4,
 "nbformat_minor": 2
}
