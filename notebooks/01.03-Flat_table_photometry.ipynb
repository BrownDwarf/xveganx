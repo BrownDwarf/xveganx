{
 "cells": [
  {
   "cell_type": "markdown",
   "metadata": {},
   "source": [
    "<!--BOOK_INFORMATION-->\n",
    "<img align=\"left\" style=\"padding-right:10px;\" src=\"figures/xveganx_icon.png\">\n",
    "*This notebook contains ongoing research material from [gully](https://twitter.com/gully_); the content is available [on GitHub](https://github.com/BrownDwarf/xveganx).*\n"
   ]
  },
  {
   "cell_type": "markdown",
   "metadata": {},
   "source": [
    "<!--NAVIGATION-->\n",
    "< [Period, Spectral Type, and multiplicity](01.02-Grankin2008_period_info.ipynb) | [Contents](Index.ipynb) | [Seasonal and yearly photometry metadata](01.04-Seasonal-and-yearly-photometric-metadata.ipynb) >"
   ]
  },
  {
   "cell_type": "markdown",
   "metadata": {},
   "source": [
    "# All photometry in a flat table"
   ]
  },
  {
   "cell_type": "markdown",
   "metadata": {},
   "source": [
    "In this notebook we simply combine all the photometric observations into a single, easy-to-use flat file."
   ]
  },
  {
   "cell_type": "code",
   "execution_count": 1,
   "metadata": {
    "collapsed": true
   },
   "outputs": [],
   "source": [
    "import warnings\n",
    "warnings.filterwarnings(\"ignore\") # live dangerously\n",
    "import numpy as np"
   ]
  },
  {
   "cell_type": "code",
   "execution_count": 2,
   "metadata": {
    "collapsed": true
   },
   "outputs": [],
   "source": [
    "import pandas as pd"
   ]
  },
  {
   "cell_type": "code",
   "execution_count": 3,
   "metadata": {
    "collapsed": true
   },
   "outputs": [],
   "source": [
    "import sys\n",
    "import os"
   ]
  },
  {
   "cell_type": "code",
   "execution_count": 4,
   "metadata": {
    "collapsed": true
   },
   "outputs": [],
   "source": [
    "sys.path.append(os.path.abspath(\"../code/\"))"
   ]
  },
  {
   "cell_type": "code",
   "execution_count": 5,
   "metadata": {
    "collapsed": true
   },
   "outputs": [],
   "source": [
    "from xphotometryx import flatten_photometry\n",
    "from xphotometryx import master_photometry"
   ]
  },
  {
   "cell_type": "code",
   "execution_count": 6,
   "metadata": {},
   "outputs": [
    {
     "name": "stdout",
     "output_type": "stream",
     "text": [
      "name,master_fn,ASASSN_fn,Grankin08_fn\r",
      "\r\n",
      "Anon 1,Anon_1_flat.csv,ANON1_ASASSN_20170803.csv,hbc366.dat\r",
      "\r\n",
      "HD 283572,HD_283572_flat.csv,HD_283572_ASASSN_20170803.csv,hd283572.dat\r",
      "\r\n"
     ]
    }
   ],
   "source": [
    "! head -n 3 ../data/metadata/photometry_filenames.csv"
   ]
  },
  {
   "cell_type": "markdown",
   "metadata": {},
   "source": [
    "Currently 2 photometric sources are supported: ASASSN and Grankin08."
   ]
  },
  {
   "cell_type": "code",
   "execution_count": 7,
   "metadata": {
    "collapsed": true
   },
   "outputs": [],
   "source": [
    "#! open ../data/metadata/photometry_filenames.numbers"
   ]
  },
  {
   "cell_type": "code",
   "execution_count": 8,
   "metadata": {
    "collapsed": true
   },
   "outputs": [],
   "source": [
    "outcome = flatten_photometry()"
   ]
  },
  {
   "cell_type": "code",
   "execution_count": 9,
   "metadata": {
    "collapsed": true
   },
   "outputs": [],
   "source": [
    "master = master_photometry()"
   ]
  },
  {
   "cell_type": "code",
   "execution_count": 10,
   "metadata": {},
   "outputs": [
    {
     "data": {
      "text/html": [
       "<div>\n",
       "<style>\n",
       "    .dataframe thead tr:only-child th {\n",
       "        text-align: right;\n",
       "    }\n",
       "\n",
       "    .dataframe thead th {\n",
       "        text-align: left;\n",
       "    }\n",
       "\n",
       "    .dataframe tbody tr th {\n",
       "        vertical-align: top;\n",
       "    }\n",
       "</style>\n",
       "<table border=\"1\" class=\"dataframe\">\n",
       "  <thead>\n",
       "    <tr style=\"text-align: right;\">\n",
       "      <th></th>\n",
       "      <th>JD_like</th>\n",
       "      <th>year</th>\n",
       "      <th>month</th>\n",
       "      <th>day</th>\n",
       "      <th>season</th>\n",
       "      <th>Vmag</th>\n",
       "      <th>Verr</th>\n",
       "      <th>Bmag</th>\n",
       "      <th>Berr</th>\n",
       "      <th>Rmag</th>\n",
       "      <th>Rerr</th>\n",
       "      <th>Umag</th>\n",
       "      <th>Uerr</th>\n",
       "      <th>source</th>\n",
       "      <th>date_type</th>\n",
       "      <th>object</th>\n",
       "    </tr>\n",
       "  </thead>\n",
       "  <tbody>\n",
       "    <tr>\n",
       "      <th>7132</th>\n",
       "      <td>2.457967e+06</td>\n",
       "      <td>2017</td>\n",
       "      <td>8</td>\n",
       "      <td>1.627643</td>\n",
       "      <td>33</td>\n",
       "      <td>13.420333</td>\n",
       "      <td>0.020817</td>\n",
       "      <td>NaN</td>\n",
       "      <td>NaN</td>\n",
       "      <td>NaN</td>\n",
       "      <td>NaN</td>\n",
       "      <td>NaN</td>\n",
       "      <td>NaN</td>\n",
       "      <td>ASASSN</td>\n",
       "      <td>HJD</td>\n",
       "      <td>V836 Tau</td>\n",
       "    </tr>\n",
       "    <tr>\n",
       "      <th>7133</th>\n",
       "      <td>2.457969e+06</td>\n",
       "      <td>2017</td>\n",
       "      <td>8</td>\n",
       "      <td>3.614737</td>\n",
       "      <td>33</td>\n",
       "      <td>13.423500</td>\n",
       "      <td>0.024283</td>\n",
       "      <td>NaN</td>\n",
       "      <td>NaN</td>\n",
       "      <td>NaN</td>\n",
       "      <td>NaN</td>\n",
       "      <td>NaN</td>\n",
       "      <td>NaN</td>\n",
       "      <td>ASASSN</td>\n",
       "      <td>HJD</td>\n",
       "      <td>V836 Tau</td>\n",
       "    </tr>\n",
       "  </tbody>\n",
       "</table>\n",
       "</div>"
      ],
      "text/plain": [
       "           JD_like  year  month       day  season       Vmag      Verr  Bmag  \\\n",
       "7132  2.457967e+06  2017      8  1.627643      33  13.420333  0.020817   NaN   \n",
       "7133  2.457969e+06  2017      8  3.614737      33  13.423500  0.024283   NaN   \n",
       "\n",
       "      Berr  Rmag  Rerr  Umag  Uerr  source date_type    object  \n",
       "7132   NaN   NaN   NaN   NaN   NaN  ASASSN       HJD  V836 Tau  \n",
       "7133   NaN   NaN   NaN   NaN   NaN  ASASSN       HJD  V836 Tau  "
      ]
     },
     "execution_count": 10,
     "metadata": {},
     "output_type": "execute_result"
    }
   ],
   "source": [
    "master.tail(2)"
   ]
  },
  {
   "cell_type": "markdown",
   "metadata": {},
   "source": [
    "### The end"
   ]
  },
  {
   "cell_type": "markdown",
   "metadata": {},
   "source": [
    "<!--NAVIGATION-->\n",
    "< [Period, Spectral Type, and multiplicity](01.02-Grankin2008_period_info.ipynb) | [Contents](Index.ipynb) | [Seasonal and yearly photometry metadata](01.04-Seasonal-and-yearly-photometric-metadata.ipynb) >"
   ]
  }
 ],
 "metadata": {
  "kernelspec": {
   "display_name": "Python 3",
   "language": "python",
   "name": "python3"
  },
  "language_info": {
   "codemirror_mode": {
    "name": "ipython",
    "version": 3
   },
   "file_extension": ".py",
   "mimetype": "text/x-python",
   "name": "python",
   "nbconvert_exporter": "python",
   "pygments_lexer": "ipython3",
   "version": "3.6.6"
  }
 },
 "nbformat": 4,
 "nbformat_minor": 1
}
