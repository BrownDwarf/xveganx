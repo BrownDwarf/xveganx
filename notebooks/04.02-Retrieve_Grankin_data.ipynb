{
 "cells": [
  {
   "cell_type": "markdown",
   "metadata": {},
   "source": [
    "# `xveganx`\n",
    "## Chapter 4: Photometry\n",
    "### Part II. Grankin data\n",
    "\n",
    "In this notebook we retrieve all the Grankin data.  These sources were all selected for the virtue of having Grankin et al. 2008 photometry, so we know that all sources have photometry.\n",
    "\n",
    "|Source| Available| Retrieved|\n",
    "|--|--|--|\n",
    "|Anon 1| Y | Y |\n",
    "|HD 283572| Y | Y |\n",
    "|Hubble 4| Y | Y |\n",
    "|LkCa 1| Y | Y |\n",
    "|LkCa 4| Y | Y |\n",
    "|LkCa 7| Y | Y |\n",
    "|LkCa 14| Y | Y |\n",
    "|LkCa 16| Y | Y |\n",
    "|LkCa 19| Y | Y |\n",
    "|TAP 35| Y | Y |\n",
    "|TAP 41| Y | Y |\n",
    "|TAP 45| Y | Y |\n",
    "|V819 Tau| Y | Y |\n",
    "|V826 Tau| Y | Y |\n",
    "|V827 Tau| Y | Y |\n",
    "|V836 Tau| Y | Y |\n",
    "\n",
    "There are a bunch more sources in the Grankin list, but these sources already have IGRINS data available, and we have the data in hand."
   ]
  },
  {
   "cell_type": "code",
   "execution_count": 1,
   "metadata": {
    "collapsed": true
   },
   "outputs": [],
   "source": [
    "import numpy as np"
   ]
  },
  {
   "cell_type": "code",
   "execution_count": 2,
   "metadata": {
    "collapsed": true
   },
   "outputs": [],
   "source": [
    "import pandas as pd"
   ]
  },
  {
   "cell_type": "markdown",
   "metadata": {},
   "source": [
    "## Download the data\n",
    "\n",
    "You need to do this manually and save it to a local directory:  \n",
    "`../data/Grankin_2008/`\n",
    "\n",
    "http://cdsweb.u-strasbg.fr/cgi-bin/qcat?J/A+A/479/827"
   ]
  },
  {
   "cell_type": "code",
   "execution_count": 3,
   "metadata": {},
   "outputs": [
    {
     "name": "stdout",
     "output_type": "stream",
     "text": [
      "hbc366.dat   lkca14.dat   lkca21.dat   lkca7.dat    v819tau.dat\r\n",
      "hbc374.dat   lkca16.dat   lkca3.dat    tap35.dat    v826tau.dat\r\n",
      "hd283572.dat lkca19.dat   lkca4.dat    tap41.dat    v827tau.dat\r\n",
      "lkca1.dat    lkca2.dat    lkca5.dat    tap45.dat    v836tau.dat\r\n"
     ]
    }
   ],
   "source": [
    "! ls ../data/Grankin_2008/"
   ]
  },
  {
   "cell_type": "code",
   "execution_count": 4,
   "metadata": {},
   "outputs": [
    {
     "name": "stdout",
     "output_type": "stream",
     "text": [
      "2448953.4376 13.464  9.999  1.801  1.832\r",
      "\r\n",
      "2448954.2349 13.484  9.999  1.822  1.847\r",
      "\r\n",
      "2448956.3453 13.482  9.999  1.920  1.837\r",
      "\r\n"
     ]
    }
   ],
   "source": [
    "! head -n 3 ../data/Grankin_2008/hbc366.dat"
   ]
  },
  {
   "cell_type": "code",
   "execution_count": 5,
   "metadata": {
    "collapsed": true
   },
   "outputs": [],
   "source": [
    "cols = ['HJD', 'Vmag', 'U_B', 'B_V', 'V_R']"
   ]
  },
  {
   "cell_type": "code",
   "execution_count": 6,
   "metadata": {},
   "outputs": [
    {
     "data": {
      "text/html": [
       "<div>\n",
       "<style>\n",
       "    .dataframe thead tr:only-child th {\n",
       "        text-align: right;\n",
       "    }\n",
       "\n",
       "    .dataframe thead th {\n",
       "        text-align: left;\n",
       "    }\n",
       "\n",
       "    .dataframe tbody tr th {\n",
       "        vertical-align: top;\n",
       "    }\n",
       "</style>\n",
       "<table border=\"1\" class=\"dataframe\">\n",
       "  <thead>\n",
       "    <tr style=\"text-align: right;\">\n",
       "      <th></th>\n",
       "      <th>HJD</th>\n",
       "      <th>Vmag</th>\n",
       "      <th>U_B</th>\n",
       "      <th>B_V</th>\n",
       "      <th>V_R</th>\n",
       "    </tr>\n",
       "  </thead>\n",
       "  <tbody>\n",
       "    <tr>\n",
       "      <th>0</th>\n",
       "      <td>2.448953e+06</td>\n",
       "      <td>13.464</td>\n",
       "      <td>NaN</td>\n",
       "      <td>1.801</td>\n",
       "      <td>1.832</td>\n",
       "    </tr>\n",
       "    <tr>\n",
       "      <th>1</th>\n",
       "      <td>2.448954e+06</td>\n",
       "      <td>13.484</td>\n",
       "      <td>NaN</td>\n",
       "      <td>1.822</td>\n",
       "      <td>1.847</td>\n",
       "    </tr>\n",
       "    <tr>\n",
       "      <th>2</th>\n",
       "      <td>2.448956e+06</td>\n",
       "      <td>13.482</td>\n",
       "      <td>NaN</td>\n",
       "      <td>1.920</td>\n",
       "      <td>1.837</td>\n",
       "    </tr>\n",
       "    <tr>\n",
       "      <th>3</th>\n",
       "      <td>2.448957e+06</td>\n",
       "      <td>13.452</td>\n",
       "      <td>NaN</td>\n",
       "      <td>1.825</td>\n",
       "      <td>1.860</td>\n",
       "    </tr>\n",
       "    <tr>\n",
       "      <th>4</th>\n",
       "      <td>2.448960e+06</td>\n",
       "      <td>13.482</td>\n",
       "      <td>NaN</td>\n",
       "      <td>1.919</td>\n",
       "      <td>1.860</td>\n",
       "    </tr>\n",
       "  </tbody>\n",
       "</table>\n",
       "</div>"
      ],
      "text/plain": [
       "            HJD    Vmag  U_B    B_V    V_R\n",
       "0  2.448953e+06  13.464  NaN  1.801  1.832\n",
       "1  2.448954e+06  13.484  NaN  1.822  1.847\n",
       "2  2.448956e+06  13.482  NaN  1.920  1.837\n",
       "3  2.448957e+06  13.452  NaN  1.825  1.860\n",
       "4  2.448960e+06  13.482  NaN  1.919  1.860"
      ]
     },
     "execution_count": 6,
     "metadata": {},
     "output_type": "execute_result"
    }
   ],
   "source": [
    "grankin_data = pd.read_csv('../data/Grankin_2008/hbc366.dat', na_values=9.999,\n",
    "                           names=cols, delim_whitespace=True)\n",
    "grankin_data.head()"
   ]
  },
  {
   "cell_type": "markdown",
   "metadata": {},
   "source": [
    "All set!"
   ]
  }
 ],
 "metadata": {
  "kernelspec": {
   "display_name": "Python 3",
   "language": "python",
   "name": "python3"
  },
  "language_info": {
   "codemirror_mode": {
    "name": "ipython",
    "version": 3
   },
   "file_extension": ".py",
   "mimetype": "text/x-python",
   "name": "python",
   "nbconvert_exporter": "python",
   "pygments_lexer": "ipython3",
   "version": "3.6.1"
  }
 },
 "nbformat": 4,
 "nbformat_minor": 1
}
