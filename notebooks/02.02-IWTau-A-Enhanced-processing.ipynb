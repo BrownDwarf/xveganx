{
 "cells": [
  {
   "cell_type": "markdown",
   "metadata": {},
   "source": [
    "<!--BOOK_INFORMATION-->\n",
    "<img align=\"left\" style=\"padding-right:10px;\" src=\"figures/xveganx_icon.png\">\n",
    "*This notebook contains ongoing research material from [gully](https://twitter.com/gully_); the content is available [on GitHub](https://github.com/BrownDwarf/xveganx).*\n"
   ]
  },
  {
   "cell_type": "markdown",
   "metadata": {},
   "source": [
    "<!--NAVIGATION-->\n",
    "< [IW Tau A](02.01-IWTau-A.ipynb) | [Contents](Index.ipynb) | [V827 Manual IGRINS spectrum cleaning](02.03-V827-manual-cleaning.ipynb) >"
   ]
  },
  {
   "cell_type": "markdown",
   "metadata": {},
   "source": [
    "# IW Tau A, Enhanced processing\n",
    "\n",
    "Actually, not sure what's different here!\n"
   ]
  },
  {
   "cell_type": "code",
   "execution_count": 1,
   "metadata": {
    "collapsed": true
   },
   "outputs": [],
   "source": [
    "import warnings\n",
    "warnings.filterwarnings(\"ignore\")"
   ]
  },
  {
   "cell_type": "code",
   "execution_count": 2,
   "metadata": {
    "collapsed": true
   },
   "outputs": [],
   "source": [
    "import numpy as np\n",
    "import matplotlib.pyplot as plt\n",
    "% matplotlib inline\n",
    "% config InlineBackend.figure_format = 'retina'\n",
    "import seaborn as sns"
   ]
  },
  {
   "cell_type": "code",
   "execution_count": 3,
   "metadata": {
    "collapsed": true
   },
   "outputs": [],
   "source": [
    "from astropy.io import fits\n",
    "import h5py"
   ]
  },
  {
   "cell_type": "markdown",
   "metadata": {},
   "source": [
    "## Set the date"
   ]
  },
  {
   "cell_type": "code",
   "execution_count": 4,
   "metadata": {
    "collapsed": true
   },
   "outputs": [],
   "source": [
    "import pandas as pd"
   ]
  },
  {
   "cell_type": "code",
   "execution_count": 5,
   "metadata": {
    "collapsed": true
   },
   "outputs": [],
   "source": [
    "cols = ['OBJECT', 'UTDATE', 'AMSTART','filename_H', 'filename_K']"
   ]
  },
  {
   "cell_type": "code",
   "execution_count": 6,
   "metadata": {
    "collapsed": true
   },
   "outputs": [],
   "source": [
    "df = pd.read_csv('../data/metadata/IGRINS_hdr_table.csv', usecols=cols)"
   ]
  },
  {
   "cell_type": "code",
   "execution_count": 7,
   "metadata": {
    "collapsed": true
   },
   "outputs": [],
   "source": [
    "df['out_fn_base'] = df.OBJECT.str.replace(' ', '') + '_'+df.filename_H.str[5:5+8]"
   ]
  },
  {
   "cell_type": "code",
   "execution_count": 8,
   "metadata": {},
   "outputs": [
    {
     "data": {
      "text/html": [
       "<div>\n",
       "<style>\n",
       "    .dataframe thead tr:only-child th {\n",
       "        text-align: right;\n",
       "    }\n",
       "\n",
       "    .dataframe thead th {\n",
       "        text-align: left;\n",
       "    }\n",
       "\n",
       "    .dataframe tbody tr th {\n",
       "        vertical-align: top;\n",
       "    }\n",
       "</style>\n",
       "<table border=\"1\" class=\"dataframe\">\n",
       "  <thead>\n",
       "    <tr style=\"text-align: right;\">\n",
       "      <th></th>\n",
       "      <th>filename_H</th>\n",
       "      <th>AMSTART</th>\n",
       "      <th>OBJECT</th>\n",
       "      <th>UTDATE</th>\n",
       "      <th>filename_K</th>\n",
       "      <th>out_fn_base</th>\n",
       "    </tr>\n",
       "  </thead>\n",
       "  <tbody>\n",
       "    <tr>\n",
       "      <th>0</th>\n",
       "      <td>SDCH_20141118_0174.spec_a0v.fits</td>\n",
       "      <td>1.1205</td>\n",
       "      <td>Anon1</td>\n",
       "      <td>2014-11-19</td>\n",
       "      <td>SDCK_20141118_0174.spec_a0v.fits</td>\n",
       "      <td>Anon1_20141118</td>\n",
       "    </tr>\n",
       "    <tr>\n",
       "      <th>1</th>\n",
       "      <td>SDCH_20141119_0119.spec_a0v.fits</td>\n",
       "      <td>1.0467</td>\n",
       "      <td>HD283572</td>\n",
       "      <td>2014-11-20</td>\n",
       "      <td>SDCK_20141119_0119.spec_a0v.fits</td>\n",
       "      <td>HD283572_20141119</td>\n",
       "    </tr>\n",
       "    <tr>\n",
       "      <th>2</th>\n",
       "      <td>SDCH_20141120_0104.spec_a0v.fits</td>\n",
       "      <td>1.1631</td>\n",
       "      <td>V827Tau</td>\n",
       "      <td>2014-11-21</td>\n",
       "      <td>SDCK_20141120_0104.spec_a0v.fits</td>\n",
       "      <td>V827Tau_20141120</td>\n",
       "    </tr>\n",
       "    <tr>\n",
       "      <th>3</th>\n",
       "      <td>SDCH_20141120_0119.spec_a0v.fits</td>\n",
       "      <td>1.0129</td>\n",
       "      <td>Hubble_4</td>\n",
       "      <td>2014-11-21</td>\n",
       "      <td>SDCK_20141120_0119.spec_a0v.fits</td>\n",
       "      <td>Hubble_4_20141120</td>\n",
       "    </tr>\n",
       "    <tr>\n",
       "      <th>4</th>\n",
       "      <td>SDCH_20141122_0157.spec_a0v.fits</td>\n",
       "      <td>1.0222</td>\n",
       "      <td>IW Tau A</td>\n",
       "      <td>2014-11-23</td>\n",
       "      <td>SDCK_20141122_0157.spec_a0v.fits</td>\n",
       "      <td>IWTauA_20141122</td>\n",
       "    </tr>\n",
       "  </tbody>\n",
       "</table>\n",
       "</div>"
      ],
      "text/plain": [
       "                         filename_H  AMSTART    OBJECT      UTDATE  \\\n",
       "0  SDCH_20141118_0174.spec_a0v.fits   1.1205     Anon1  2014-11-19   \n",
       "1  SDCH_20141119_0119.spec_a0v.fits   1.0467  HD283572  2014-11-20   \n",
       "2  SDCH_20141120_0104.spec_a0v.fits   1.1631   V827Tau  2014-11-21   \n",
       "3  SDCH_20141120_0119.spec_a0v.fits   1.0129  Hubble_4  2014-11-21   \n",
       "4  SDCH_20141122_0157.spec_a0v.fits   1.0222  IW Tau A  2014-11-23   \n",
       "\n",
       "                         filename_K        out_fn_base  \n",
       "0  SDCK_20141118_0174.spec_a0v.fits     Anon1_20141118  \n",
       "1  SDCK_20141119_0119.spec_a0v.fits  HD283572_20141119  \n",
       "2  SDCK_20141120_0104.spec_a0v.fits   V827Tau_20141120  \n",
       "3  SDCK_20141120_0119.spec_a0v.fits  Hubble_4_20141120  \n",
       "4  SDCK_20141122_0157.spec_a0v.fits    IWTauA_20141122  "
      ]
     },
     "execution_count": 8,
     "metadata": {},
     "output_type": "execute_result"
    }
   ],
   "source": [
    "df.head()"
   ]
  },
  {
   "cell_type": "markdown",
   "metadata": {},
   "source": [
    "# Pick the object"
   ]
  },
  {
   "cell_type": "code",
   "execution_count": 261,
   "metadata": {
    "collapsed": true
   },
   "outputs": [],
   "source": [
    "obj_index = 4"
   ]
  },
  {
   "cell_type": "markdown",
   "metadata": {},
   "source": [
    "## H-Band"
   ]
  },
  {
   "cell_type": "code",
   "execution_count": 262,
   "metadata": {
    "collapsed": true
   },
   "outputs": [],
   "source": [
    "fn = '../data/IGRINS/MGS_data_request/'+ df.get_value(obj_index, 'filename_H')\n",
    "hdu_raw = fits.open(fn)\n",
    "hdr = hdu_raw[0].header"
   ]
  },
  {
   "cell_type": "code",
   "execution_count": 263,
   "metadata": {},
   "outputs": [
    {
     "name": "stdout",
     "output_type": "stream",
     "text": [
      "Filename: ../data/IGRINS/MGS_data_request/SDCH_20141122_0157.spec_a0v.fits\n",
      "No.    Name      Ver    Type      Cards   Dimensions   Format\n",
      "  0  SPEC_DIVIDE_A0V    1 PrimaryHDU     281   (2048, 28)   float64   \n",
      "  1  WAVELENGTH    1 ImageHDU       280   (2048, 28)   float64   \n",
      "  2  TGT_SPEC      1 ImageHDU       280   (2048, 28)   float32   \n",
      "  3  A0V_SPEC      1 ImageHDU       280   (2048, 28)   float32   \n",
      "  4  VEGA_SPEC     1 ImageHDU       280   (2048, 28)   float64   \n",
      "  5  SPEC_DIVIDE_CONT    1 ImageHDU       280   (2048, 28)   float64   \n"
     ]
    }
   ],
   "source": [
    "hdu_raw.info()"
   ]
  },
  {
   "cell_type": "markdown",
   "metadata": {},
   "source": [
    "### We'll have to make some assumptions\n",
    "\n",
    "Ideally we would use a noise derived from the pipeline, but we don't have that.  So we assume:  \n",
    "\n",
    "1. Homoscedastic uncertainty, fixed at $S/N\\sim 50$\n",
    "2. The absolute mean value is non-physical\n",
    "\n",
    "$$ f_{\\star} = \\frac{f_{raw, \\star}}{f_{raw, std}} \\times \\hat{f}_{std}$$\n",
    "\n",
    "\n",
    "$$ \\sigma_{\\star} = f_{\\star} \\sqrt{ \\left( \\frac{\\sigma_{raw, std}}{f_{raw, std}}\\right)^2 + \\left( \\frac{\\sigma_{raw, \\star}}{f_{raw,\\star}} \\right)^2 } \\times \\hat{f}_{std}$$\n"
   ]
  },
  {
   "cell_type": "markdown",
   "metadata": {},
   "source": [
    "**Translation**:\n",
    "\n",
    "0. `SPEC_DIVIDE_A0V` `............` $f_{\\star}$\n",
    "1. `WAVELENGTH` `.................` $\\lambda$ (micron)\n",
    "2. `TGT_SPEC` `...................` $f_{raw, \\star}$\n",
    "3. `A0V_SPEC` `...................` $f_{raw, std}$\n",
    "4. `VEGA_SPEC` `..................` $\\hat{f}_{std}$\n",
    "5. `SPEC_DIVIDE_CONT` `...........` *N/A*\n",
    "\n",
    "Other needed data not included in the `*spec_a0v.fits` file:\n",
    "\n",
    "- $\\sigma_{\\star}$ ............ what we want  \n",
    "- $\\sigma_{raw, \\star}$ ....... pipeline-produced uncertainty of the star. \n",
    "- $\\sigma_{raw, std}$ ......... pipeline-produced uncertainty of the A0V standard.\n",
    "\n",
    "\n",
    "The $\\sigma$'s are *unavailable*.\n",
    "We'll have to \"estimate\" them:  \n",
    "Assume homoscedastic*: $\\sim0.02 \\times$ \"continuum\""
   ]
  },
  {
   "cell_type": "markdown",
   "metadata": {},
   "source": [
    "Let's estimate the uncertainty as:  \n",
    "\n",
    "$$ \\sigma_{raw, \\star, m} \\approx \\hat \\sigma_{raw, \\star, m}$$\n",
    "\n",
    "$$\\hat \\sigma_{raw, \\star, m} = f_{raw, \\star, m}\\mid_{50\\%} \\times 0.02$$  \n",
    "where $\\mid_{50\\%}$ denotes taking the median value, and $m$ indicates that this estimator is computed for each spectral order.  The value of 0.02 is made up, but roughly corresponds to a signal-to-noise ratio of 50 per pixel, which seems reasonable.  \n",
    "\n",
    "Since our spectral orders are not flux calibrated, we can divide-out the relative flux among orders.  We adopt the per-order median as the normalization, so we have:\n",
    "\n",
    "$$f_{raw,m}\\mid_{50\\%} \\equiv 1.0$$  \n",
    "\n",
    "So:\n",
    "\n",
    "$$\\hat \\sigma_{raw} = 0.02$$"
   ]
  },
  {
   "cell_type": "code",
   "execution_count": 264,
   "metadata": {
    "collapsed": true
   },
   "outputs": [],
   "source": [
    "def get_wl_flux_unc(hdu_raw):\n",
    "    '''\n",
    "    Takes in a fits HDU file and returns the wavelength, flux, and uncertainty estimate\n",
    "    '''\n",
    "    wl = hdu_raw[1].data\n",
    "    pipeline_flux_est = hdu_raw[0].data/(np.nanmedian(hdu_raw[0].data, axis=1)[:, np.newaxis])\n",
    "    flux_raw_star = hdu_raw[2].data/(np.nanmedian(hdu_raw[2].data, axis=1)[:, np.newaxis])\n",
    "    flux_raw_std = hdu_raw[3].data/(np.nanmedian(hdu_raw[3].data, axis=1)[:, np.newaxis])\n",
    "    hat_flux_std = hdu_raw[4].data/(np.nanmedian(hdu_raw[4].data, axis=1)[:, np.newaxis])\n",
    "    \n",
    "    flux_star = flux_raw_star / flux_raw_std * hat_flux_std\n",
    "    sig_star = flux_star * np.sqrt( (0.02*flux_raw_star)**2 +\n",
    "                                (0.02*flux_raw_std)**2 ) * hat_flux_std\n",
    "    \n",
    "    renorm_values = np.nanmedian(flux_star, axis=1)[:, np.newaxis]\n",
    "    norm_flux_star = flux_star/renorm_values\n",
    "    norm_sig_star = np.abs(sig_star/renorm_values)\n",
    "    \n",
    "    return (wl, norm_flux_star, norm_sig_star)"
   ]
  },
  {
   "cell_type": "markdown",
   "metadata": {},
   "source": [
    "## Clean the data:\n",
    "\n",
    "- Enforce minimum sigma of 0.02.\n",
    "- Enforce a maximum S/N of 40.\n",
    "- Downweight spurious outliers."
   ]
  },
  {
   "cell_type": "code",
   "execution_count": 265,
   "metadata": {
    "collapsed": true
   },
   "outputs": [],
   "source": [
    "def clean_noise(fstar, sig_star):\n",
    "    '''\n",
    "    Cleans the sig_star array to account for outliers and S/N limits\n",
    "    '''\n",
    "    \n",
    "    low_sig = sig_star < 0.02\n",
    "    sig_star[low_sig] = 0.02\n",
    "    \n",
    "    s_n = fstar/sig_star\n",
    "    high_sn = s_n > 40.0\n",
    "    sig_star[high_sn] = fstar[high_sn]/40.0\n",
    "    \n",
    "    neg_flux = fstar < 0.0\n",
    "    lo_flux = (fstar > 0.0) & (fstar < 0.2)\n",
    "    high_flux = fstar > 1.5\n",
    "    sig_star[neg_flux] = np.abs(fstar[neg_flux])+1.0\n",
    "    sig_star[lo_flux] = fstar[lo_flux]\n",
    "    sig_star[high_flux] = fstar[high_flux]\n",
    "    \n",
    "    return (fstar, sig_star)"
   ]
  },
  {
   "cell_type": "code",
   "execution_count": 266,
   "metadata": {
    "collapsed": true
   },
   "outputs": [],
   "source": [
    "wl, fstar, sig_star = get_wl_flux_unc(hdu_raw)"
   ]
  },
  {
   "cell_type": "code",
   "execution_count": 267,
   "metadata": {
    "collapsed": true
   },
   "outputs": [],
   "source": [
    "fstar, sig_star = clean_noise(fstar, sig_star)"
   ]
  },
  {
   "cell_type": "markdown",
   "metadata": {},
   "source": [
    "### Visualize final noise distribution"
   ]
  },
  {
   "cell_type": "code",
   "execution_count": 268,
   "metadata": {
    "collapsed": true
   },
   "outputs": [],
   "source": [
    "good_draws = np.random.normal(1.0, 0.05, 25*2048)\n",
    "bad_draws = np.random.normal(1.0, 5, 3*2048)\n",
    "comb_draws = np.hstack([good_draws, bad_draws])"
   ]
  },
  {
   "cell_type": "code",
   "execution_count": 269,
   "metadata": {},
   "outputs": [
    {
     "data": {
      "image/png": "[encoded data removed]",
      "text/plain": [
       "<matplotlib.figure.Figure at 0x11954e940>"
      ]
     },
     "metadata": {
      "image/png": {
       "height": 329,
       "width": 486
      }
     },
     "output_type": "display_data"
    }
   ],
   "source": [
    "sns.distplot(fstar[fstar==fstar], kde=False, bins=np.arange(-2, 5, 0.02))\n",
    "sns.distplot(sig_star[sig_star==sig_star], kde=False, bins=np.arange(-2, 5, 0.02))\n",
    "sns.distplot(comb_draws, kde=False, bins=np.arange(-2, 5, 0.02))\n",
    "plt.xlim(-2, 5)\n",
    "plt.yscale('log')"
   ]
  },
  {
   "cell_type": "code",
   "execution_count": 270,
   "metadata": {
    "collapsed": true
   },
   "outputs": [],
   "source": [
    "s_n = fstar/sig_star"
   ]
  },
  {
   "cell_type": "code",
   "execution_count": 271,
   "metadata": {},
   "outputs": [
    {
     "data": {
      "image/png": "[encoded data removed]",
      "text/plain": [
       "<matplotlib.figure.Figure at 0x1181ff978>"
      ]
     },
     "metadata": {
      "image/png": {
       "height": 346,
       "width": 483
      }
     },
     "output_type": "display_data"
    }
   ],
   "source": [
    "sns.distplot(s_n[s_n==s_n], kde=False, bins=np.arange(-10, 50, 0.2))\n",
    "#sns.distplot(comb_draws, kde=False, bins=np.arange(-2, 5, 0.02))\n",
    "plt.xlabel('$S/N$ ratio per pixel')\n",
    "plt.yscale('log')"
   ]
  },
  {
   "cell_type": "markdown",
   "metadata": {},
   "source": [
    "## Plot it"
   ]
  },
  {
   "cell_type": "markdown",
   "metadata": {},
   "source": [
    "We will trim between pixel 450 and 1950."
   ]
  },
  {
   "cell_type": "code",
   "execution_count": 272,
   "metadata": {
    "collapsed": true
   },
   "outputs": [],
   "source": [
    "o=0"
   ]
  },
  {
   "cell_type": "code",
   "execution_count": 302,
   "metadata": {},
   "outputs": [
    {
     "ename": "IndexError",
     "evalue": "index 28 is out of bounds for axis 0 with size 28",
     "output_type": "error",
     "traceback": [
      "\u001b[0;31m---------------------------------------------------------------------------\u001b[0m",
      "\u001b[0;31mIndexError\u001b[0m                                Traceback (most recent call last)",
      "\u001b[0;32m<ipython-input-302-5b65c3474a75>\u001b[0m in \u001b[0;36m<module>\u001b[0;34m()\u001b[0m\n\u001b[0;32m----> 1\u001b[0;31m \u001b[0mfls_out\u001b[0m \u001b[0;34m=\u001b[0m \u001b[0mfstar\u001b[0m\u001b[0;34m[\u001b[0m\u001b[0mo\u001b[0m\u001b[0;34m,\u001b[0m\u001b[0;34m:\u001b[0m\u001b[0;34m]\u001b[0m\u001b[0;34m\u001b[0m\u001b[0m\n\u001b[0m\u001b[1;32m      2\u001b[0m \u001b[0msig_out\u001b[0m \u001b[0;34m=\u001b[0m \u001b[0msig_star\u001b[0m\u001b[0;34m[\u001b[0m\u001b[0mo\u001b[0m\u001b[0;34m,\u001b[0m\u001b[0;34m:\u001b[0m\u001b[0;34m]\u001b[0m\u001b[0;34m\u001b[0m\u001b[0m\n\u001b[1;32m      3\u001b[0m \u001b[0mwls_out\u001b[0m \u001b[0;34m=\u001b[0m \u001b[0mwl\u001b[0m\u001b[0;34m[\u001b[0m\u001b[0mo\u001b[0m\u001b[0;34m,\u001b[0m\u001b[0;34m:\u001b[0m\u001b[0;34m]\u001b[0m\u001b[0;34m\u001b[0m\u001b[0m\n\u001b[1;32m      4\u001b[0m \u001b[0msig\u001b[0m \u001b[0;34m=\u001b[0m \u001b[0msig_out\u001b[0m\u001b[0;34m\u001b[0m\u001b[0m\n\u001b[1;32m      5\u001b[0m \u001b[0;34m\u001b[0m\u001b[0m\n",
      "\u001b[0;31mIndexError\u001b[0m: index 28 is out of bounds for axis 0 with size 28"
     ]
    }
   ],
   "source": [
    "fls_out = fstar[o,:]\n",
    "sig_out = sig_star[o,:]\n",
    "wls_out = wl[o,:]\n",
    "sig = sig_out\n",
    "\n",
    "pix = np.arange(2048)\n",
    "plt.plot(pix, fls_out, 'k.', ms=4)\n",
    "\n",
    "plt.fill_between(pix, fls_out-sig, fls_out+sig, color='r')\n",
    "\n",
    "plt.vlines(450, 0, 2, linestyles='--')\n",
    "plt.vlines(1950, 0, 2, linestyles='--')\n",
    "plt.hlines(1.5, 0, 2048, linestyles=':', colors='b')\n",
    "plt.hlines(0.2, 0, 2048, linestyles=':', colors='b')\n",
    "plt.ylim(0.0, 2.0)\n",
    "o+=1"
   ]
  },
  {
   "cell_type": "code",
   "execution_count": 303,
   "metadata": {},
   "outputs": [
    {
     "name": "stdout",
     "output_type": "stream",
     "text": [
      "098: 18154  -  18335   ../data/IGRINS/reduced/IWTauA_20141122_098.hdf5\n",
      "099: 17975  -  18155   ../data/IGRINS/reduced/IWTauA_20141122_099.hdf5\n",
      "100: 17800  -  17978   ../data/IGRINS/reduced/IWTauA_20141122_100.hdf5\n",
      "101: 17628  -  17805   ../data/IGRINS/reduced/IWTauA_20141122_101.hdf5\n",
      "102: 17460  -  17635   ../data/IGRINS/reduced/IWTauA_20141122_102.hdf5\n",
      "103: 17295  -  17468   ../data/IGRINS/reduced/IWTauA_20141122_103.hdf5\n",
      "104: 17133  -  17305   ../data/IGRINS/reduced/IWTauA_20141122_104.hdf5\n",
      "105: 16975  -  17145   ../data/IGRINS/reduced/IWTauA_20141122_105.hdf5\n",
      "106: 16819  -  16988   ../data/IGRINS/reduced/IWTauA_20141122_106.hdf5\n",
      "107: 16667  -  16834   ../data/IGRINS/reduced/IWTauA_20141122_107.hdf5\n",
      "108: 16517  -  16682   ../data/IGRINS/reduced/IWTauA_20141122_108.hdf5\n",
      "109: 16370  -  16534   ../data/IGRINS/reduced/IWTauA_20141122_109.hdf5\n",
      "110: 16226  -  16388   ../data/IGRINS/reduced/IWTauA_20141122_110.hdf5\n",
      "111: 16084  -  16245   ../data/IGRINS/reduced/IWTauA_20141122_111.hdf5\n",
      "112: 15945  -  16105   ../data/IGRINS/reduced/IWTauA_20141122_112.hdf5\n",
      "113: 15809  -  15967   ../data/IGRINS/reduced/IWTauA_20141122_113.hdf5\n",
      "114: 15675  -  15832   ../data/IGRINS/reduced/IWTauA_20141122_114.hdf5\n",
      "115: 15543  -  15698   ../data/IGRINS/reduced/IWTauA_20141122_115.hdf5\n",
      "116: 15414  -  15568   ../data/IGRINS/reduced/IWTauA_20141122_116.hdf5\n",
      "117: 15287  -  15439   ../data/IGRINS/reduced/IWTauA_20141122_117.hdf5\n",
      "118: 15162  -  15313   ../data/IGRINS/reduced/IWTauA_20141122_118.hdf5\n",
      "119: 15039  -  15189   ../data/IGRINS/reduced/IWTauA_20141122_119.hdf5\n",
      "120: 14919  -  15067   ../data/IGRINS/reduced/IWTauA_20141122_120.hdf5\n",
      "121: 14800  -  14947   ../data/IGRINS/reduced/IWTauA_20141122_121.hdf5\n",
      "122: 14683  -  14829   ../data/IGRINS/reduced/IWTauA_20141122_122.hdf5\n",
      "123: 14569  -  14713   ../data/IGRINS/reduced/IWTauA_20141122_123.hdf5\n",
      "124: 14456  -  14599   ../data/IGRINS/reduced/IWTauA_20141122_124.hdf5\n",
      "125: 14345  -  14487   ../data/IGRINS/reduced/IWTauA_20141122_125.hdf5\n"
     ]
    }
   ],
   "source": [
    "lft = 450\n",
    "rgt = 1950\n",
    "\n",
    "for o in range(28):\n",
    "    m = o + 98\n",
    "    base = df.get_value(obj_index, 'out_fn_base')\n",
    "    out_name = '../data/IGRINS/reduced/{}_{:03d}.hdf5'.format(base, m)\n",
    "    fls_out = fstar[o,lft:rgt]\n",
    "    sig_out = sig_star[o,lft:rgt]\n",
    "    wls_out = wl[o,lft:rgt]*10000.0\n",
    "    msk_out = np.ones(len(wls_out), dtype=int)\n",
    "    gi = (fls_out==fls_out) & (sig_out==sig_out) & (fls_out> 0) & (fls_out < 2)\n",
    "    f_new = h5py.File(out_name, 'w')\n",
    "    f_new.create_dataset('fls', data=fls_out[gi])\n",
    "    f_new.create_dataset('wls', data=wls_out[gi])\n",
    "    f_new.create_dataset('sigmas', data=sig_out[gi])\n",
    "    f_new.create_dataset('masks', data=msk_out[gi])\n",
    "    print(\"{:03d}: {:.0f}  -  {:.0f}   {}\".format(m, wls_out[0], wls_out[-1], out_name))\n",
    "    f_new.close()"
   ]
  },
  {
   "cell_type": "markdown",
   "metadata": {},
   "source": [
    "## K-band"
   ]
  },
  {
   "cell_type": "code",
   "execution_count": 304,
   "metadata": {
    "collapsed": true
   },
   "outputs": [],
   "source": [
    "fn = '../data/IGRINS/MGS_data_request/'+ df.get_value(obj_index, 'filename_K')\n",
    "hdu_raw = fits.open(fn)\n",
    "hdr = hdu_raw[0].header"
   ]
  },
  {
   "cell_type": "code",
   "execution_count": 305,
   "metadata": {
    "collapsed": true
   },
   "outputs": [],
   "source": [
    "wl, fstar, sig_star = get_wl_flux_unc(hdu_raw)\n",
    "fstar, sig_star = clean_noise(fstar, sig_star)"
   ]
  },
  {
   "cell_type": "code",
   "execution_count": 306,
   "metadata": {
    "collapsed": true
   },
   "outputs": [],
   "source": [
    "good_draws = np.random.normal(1.0, 0.05, 23*2048)\n",
    "bad_draws = np.random.normal(1.0, 5, 3*2048)\n",
    "comb_draws = np.hstack([good_draws, bad_draws])"
   ]
  },
  {
   "cell_type": "code",
   "execution_count": 307,
   "metadata": {},
   "outputs": [
    {
     "data": {
      "image/png": "[encoded data removed]",
      "text/plain": [
       "<matplotlib.figure.Figure at 0x11938e470>"
      ]
     },
     "metadata": {
      "image/png": {
       "height": 329,
       "width": 486
      }
     },
     "output_type": "display_data"
    }
   ],
   "source": [
    "sns.distplot(fstar[fstar==fstar], kde=False, bins=np.arange(-2, 5, 0.02))\n",
    "sns.distplot(sig_star[sig_star==sig_star], kde=False, bins=np.arange(-2, 5, 0.02))\n",
    "sns.distplot(comb_draws, kde=False, bins=np.arange(-2, 5, 0.02))\n",
    "plt.xlim(-2, 5)\n",
    "plt.yscale('log')"
   ]
  },
  {
   "cell_type": "code",
   "execution_count": 308,
   "metadata": {},
   "outputs": [
    {
     "data": {
      "image/png": "[encoded data removed]",
      "text/plain": [
       "<matplotlib.figure.Figure at 0x118745be0>"
      ]
     },
     "metadata": {
      "image/png": {
       "height": 346,
       "width": 483
      }
     },
     "output_type": "display_data"
    }
   ],
   "source": [
    "sns.distplot(s_n[s_n==s_n], kde=False, bins=np.arange(-10, 50, 0.2))\n",
    "#sns.distplot(comb_draws, kde=False, bins=np.arange(-2, 5, 0.02))\n",
    "plt.xlabel('$S/N$ ratio per pixel')\n",
    "plt.yscale('log')"
   ]
  },
  {
   "cell_type": "code",
   "execution_count": 309,
   "metadata": {
    "collapsed": true
   },
   "outputs": [],
   "source": [
    "o=0"
   ]
  },
  {
   "cell_type": "code",
   "execution_count": 336,
   "metadata": {},
   "outputs": [
    {
     "ename": "IndexError",
     "evalue": "index 26 is out of bounds for axis 0 with size 26",
     "output_type": "error",
     "traceback": [
      "\u001b[0;31m---------------------------------------------------------------------------\u001b[0m",
      "\u001b[0;31mIndexError\u001b[0m                                Traceback (most recent call last)",
      "\u001b[0;32m<ipython-input-336-5b65c3474a75>\u001b[0m in \u001b[0;36m<module>\u001b[0;34m()\u001b[0m\n\u001b[0;32m----> 1\u001b[0;31m \u001b[0mfls_out\u001b[0m \u001b[0;34m=\u001b[0m \u001b[0mfstar\u001b[0m\u001b[0;34m[\u001b[0m\u001b[0mo\u001b[0m\u001b[0;34m,\u001b[0m\u001b[0;34m:\u001b[0m\u001b[0;34m]\u001b[0m\u001b[0;34m\u001b[0m\u001b[0m\n\u001b[0m\u001b[1;32m      2\u001b[0m \u001b[0msig_out\u001b[0m \u001b[0;34m=\u001b[0m \u001b[0msig_star\u001b[0m\u001b[0;34m[\u001b[0m\u001b[0mo\u001b[0m\u001b[0;34m,\u001b[0m\u001b[0;34m:\u001b[0m\u001b[0;34m]\u001b[0m\u001b[0;34m\u001b[0m\u001b[0m\n\u001b[1;32m      3\u001b[0m \u001b[0mwls_out\u001b[0m \u001b[0;34m=\u001b[0m \u001b[0mwl\u001b[0m\u001b[0;34m[\u001b[0m\u001b[0mo\u001b[0m\u001b[0;34m,\u001b[0m\u001b[0;34m:\u001b[0m\u001b[0;34m]\u001b[0m\u001b[0;34m\u001b[0m\u001b[0m\n\u001b[1;32m      4\u001b[0m \u001b[0msig\u001b[0m \u001b[0;34m=\u001b[0m \u001b[0msig_out\u001b[0m\u001b[0;34m\u001b[0m\u001b[0m\n\u001b[1;32m      5\u001b[0m \u001b[0;34m\u001b[0m\u001b[0m\n",
      "\u001b[0;31mIndexError\u001b[0m: index 26 is out of bounds for axis 0 with size 26"
     ]
    }
   ],
   "source": [
    "fls_out = fstar[o,:]\n",
    "sig_out = sig_star[o,:]\n",
    "wls_out = wl[o,:]\n",
    "sig = sig_out\n",
    "\n",
    "pix = np.arange(2048)\n",
    "plt.plot(pix, fls_out, 'k.', ms=4)\n",
    "\n",
    "plt.fill_between(pix, fls_out-sig, fls_out+sig, color='r')\n",
    "\n",
    "plt.vlines(450, 0, 2, linestyles='--')\n",
    "plt.vlines(1950, 0, 2, linestyles='--')\n",
    "plt.hlines(1.5, 0, 2048, linestyles=':', colors='b')\n",
    "plt.hlines(0.2, 0, 2048, linestyles=':', colors='b')\n",
    "plt.ylim(0.0, 2.0)\n",
    "o+=1"
   ]
  },
  {
   "cell_type": "code",
   "execution_count": 337,
   "metadata": {},
   "outputs": [
    {
     "name": "stdout",
     "output_type": "stream",
     "text": [
      "071: 24928  -  25173   ../data/IGRINS/reduced/IWTauA_20141122_071.hdf5\n",
      "072: 24586  -  24828   ../data/IGRINS/reduced/IWTauA_20141122_072.hdf5\n",
      "073: 24254  -  24492   ../data/IGRINS/reduced/IWTauA_20141122_073.hdf5\n",
      "074: 23930  -  24166   ../data/IGRINS/reduced/IWTauA_20141122_074.hdf5\n",
      "075: 23616  -  23849   ../data/IGRINS/reduced/IWTauA_20141122_075.hdf5\n",
      "076: 23309  -  23540   ../data/IGRINS/reduced/IWTauA_20141122_076.hdf5\n",
      "077: 23011  -  23239   ../data/IGRINS/reduced/IWTauA_20141122_077.hdf5\n",
      "078: 22720  -  22945   ../data/IGRINS/reduced/IWTauA_20141122_078.hdf5\n",
      "079: 22437  -  22660   ../data/IGRINS/reduced/IWTauA_20141122_079.hdf5\n",
      "080: 22161  -  22381   ../data/IGRINS/reduced/IWTauA_20141122_080.hdf5\n",
      "081: 21892  -  22109   ../data/IGRINS/reduced/IWTauA_20141122_081.hdf5\n",
      "082: 21630  -  21844   ../data/IGRINS/reduced/IWTauA_20141122_082.hdf5\n",
      "083: 21374  -  21586   ../data/IGRINS/reduced/IWTauA_20141122_083.hdf5\n",
      "084: 21124  -  21334   ../data/IGRINS/reduced/IWTauA_20141122_084.hdf5\n",
      "085: 20880  -  21087   ../data/IGRINS/reduced/IWTauA_20141122_085.hdf5\n",
      "086: 20641  -  20847   ../data/IGRINS/reduced/IWTauA_20141122_086.hdf5\n",
      "087: 20409  -  20612   ../data/IGRINS/reduced/IWTauA_20141122_087.hdf5\n",
      "088: 20181  -  20382   ../data/IGRINS/reduced/IWTauA_20141122_088.hdf5\n",
      "089: 19959  -  20157   ../data/IGRINS/reduced/IWTauA_20141122_089.hdf5\n",
      "090: 19742  -  19938   ../data/IGRINS/reduced/IWTauA_20141122_090.hdf5\n",
      "091: 19530  -  19724   ../data/IGRINS/reduced/IWTauA_20141122_091.hdf5\n",
      "092: 19322  -  19514   ../data/IGRINS/reduced/IWTauA_20141122_092.hdf5\n",
      "093: 19119  -  19308   ../data/IGRINS/reduced/IWTauA_20141122_093.hdf5\n",
      "094: 18920  -  19108   ../data/IGRINS/reduced/IWTauA_20141122_094.hdf5\n",
      "095: 18725  -  18911   ../data/IGRINS/reduced/IWTauA_20141122_095.hdf5\n",
      "096: 18535  -  18718   ../data/IGRINS/reduced/IWTauA_20141122_096.hdf5\n"
     ]
    }
   ],
   "source": [
    "lft = 450\n",
    "rgt = 1950\n",
    "\n",
    "for o in range(26):\n",
    "    m = o + 71\n",
    "    base = df.get_value(obj_index, 'out_fn_base')\n",
    "    out_name = '../data/IGRINS/reduced/{}_{:03d}.hdf5'.format(base, m)\n",
    "    fls_out = fstar[o,lft:rgt]\n",
    "    sig_out = sig_star[o,lft:rgt]\n",
    "    wls_out = wl[o,lft:rgt]*10000.0\n",
    "    msk_out = np.ones(len(wls_out), dtype=int)\n",
    "    gi = (fls_out==fls_out) & (sig_out==sig_out) & (fls_out > 0) & (fls_out < 2)\n",
    "    f_new = h5py.File(out_name, 'w')\n",
    "    f_new.create_dataset('fls', data=fls_out[gi])\n",
    "    f_new.create_dataset('wls', data=wls_out[gi])\n",
    "    f_new.create_dataset('sigmas', data=sig_out[gi])\n",
    "    f_new.create_dataset('masks', data=msk_out[gi])\n",
    "    print(\"{:03d}: {:.0f}  -  {:.0f}   {}\".format(m, wls_out[0], wls_out[-1], out_name))\n",
    "    f_new.close()"
   ]
  },
  {
   "cell_type": "markdown",
   "metadata": {},
   "source": [
    "### The end!"
   ]
  },
  {
   "cell_type": "markdown",
   "metadata": {},
   "source": [
    "<!--NAVIGATION-->\n",
    "< [IW Tau A](02.01-IWTau-A.ipynb) | [Contents](Index.ipynb) | [V827 Manual IGRINS spectrum cleaning](02.03-V827-manual-cleaning.ipynb) >"
   ]
  }
 ],
 "metadata": {
  "kernelspec": {
   "display_name": "Python 3",
   "language": "python",
   "name": "python3"
  },
  "language_info": {
   "codemirror_mode": {
    "name": "ipython",
    "version": 3
   },
   "file_extension": ".py",
   "mimetype": "text/x-python",
   "name": "python",
   "nbconvert_exporter": "python",
   "pygments_lexer": "ipython3",
   "version": "3.6.2"
  }
 },
 "nbformat": 4,
 "nbformat_minor": 1
}
