{
 "cells": [
  {
   "cell_type": "markdown",
   "metadata": {},
   "source": [
    "<!--BOOK_INFORMATION-->\n",
    "<img align=\"left\" style=\"padding-right:10px;\" src=\"figures/xveganx_icon.png\">\n",
    "*This notebook contains ongoing research material from [gully](https://twitter.com/gully_); the content is available [on GitHub](https://github.com/BrownDwarf/xveganx).*\n"
   ]
  },
  {
   "cell_type": "markdown",
   "metadata": {},
   "source": [
    "<!--NAVIGATION-->\n",
    "< [Measuring starspots on young stars](00.00-Preface.ipynb) | [Contents](Index.ipynb) | [IGRINS FITS files](01.01-IGRINS_FITS_header_table.ipynb) >"
   ]
  },
  {
   "cell_type": "markdown",
   "metadata": {},
   "source": [
    "# Metadata"
   ]
  },
  {
   "cell_type": "markdown",
   "metadata": {},
   "source": [
    "This project contains various forms of metadata, for example:\n",
    "- Target lists\n",
    "- Period estimates from Grankin et al.\n",
    "- Observing logs\n",
    "- Alternate names of targets\n",
    "- Spectral inference job runs\n",
    "\n",
    "In this chapter, we track the metadata to facilitate retrieval and analysis of data. "
   ]
  },
  {
   "cell_type": "code",
   "execution_count": 1,
   "metadata": {},
   "outputs": [
    {
     "data": {
      "text/html": [
       "<style>.container { width:100% !important; }</style>"
      ],
      "text/plain": [
       "<IPython.core.display.HTML object>"
      ]
     },
     "metadata": {},
     "output_type": "display_data"
    }
   ],
   "source": [
    "from IPython.core.display import display, HTML\n",
    "display(HTML(\"<style>.container { width:100% !important; }</style>\"))"
   ]
  },
  {
   "cell_type": "markdown",
   "metadata": {},
   "source": [
    "|filename|Description| $N_{rows}$|$N_{cols}$|\n",
    "|:--|:--|--|--|\n",
    "|**`Grankin08_physical.csv`**| The Name, Rotation Period, Spectral Type and Multiplicity for all objects in Grankin et al. 2008.|16|4|\n",
    "|**`IGRINS_hdr_table.csv`** | Selected the FITS header cards for the IGRINS spectra of the Grankin sample.|22|26|\n",
    "|**`K2_EPIC.numbers`** | The EPIC names (if available) of the 16 Grankin sources, and flag for C13 data available| 16|3|\n",
    "|**`MGS_Data_request_August9_2016.xlsx`** | Info on IGRINS proposers and observers, dates, and number of epochs available| 17| 10|\n",
    "|**`MGS_addendum_request_20170829.csv`** | The Objectname, UTDATE of IGRINS observation, and the H and K filenames| 21| 4|\n",
    "|**`photometry_filenames.csv`** | The lookup table for photometry filenames for master, ASASSN, and Grankin| 16| 4|\n",
    "\n",
    "\n"
   ]
  },
  {
   "cell_type": "code",
   "execution_count": 2,
   "metadata": {},
   "outputs": [
    {
     "name": "stdout",
     "output_type": "stream",
     "text": [
      "Grankin08_physical.csv             MGS_addendum_request_20170829.csv\r\n",
      "IGRINS_hdr_table.csv               photometry_filenames.csv\r\n",
      "K2_EPIC.numbers                    photometry_filenames.numbers\r\n",
      "MGS_Data_request_August9_2016.xlsx \u001b[1m\u001b[31mtarget_list\u001b[m\u001b[m\r\n"
     ]
    }
   ],
   "source": [
    "! ls ../data/metadata/"
   ]
  },
  {
   "cell_type": "code",
   "execution_count": 3,
   "metadata": {
    "collapsed": true
   },
   "outputs": [],
   "source": [
    "import pandas as pd"
   ]
  },
  {
   "cell_type": "code",
   "execution_count": 5,
   "metadata": {},
   "outputs": [
    {
     "data": {
      "text/html": [
       "<div>\n",
       "<style>\n",
       "    .dataframe thead tr:only-child th {\n",
       "        text-align: right;\n",
       "    }\n",
       "\n",
       "    .dataframe thead th {\n",
       "        text-align: left;\n",
       "    }\n",
       "\n",
       "    .dataframe tbody tr th {\n",
       "        vertical-align: top;\n",
       "    }\n",
       "</style>\n",
       "<table border=\"1\" class=\"dataframe\">\n",
       "  <thead>\n",
       "    <tr style=\"text-align: right;\">\n",
       "      <th></th>\n",
       "      <th>name</th>\n",
       "      <th>Period</th>\n",
       "      <th>SpT</th>\n",
       "      <th>mult</th>\n",
       "    </tr>\n",
       "  </thead>\n",
       "  <tbody>\n",
       "    <tr>\n",
       "      <th>0</th>\n",
       "      <td>Anon 1</td>\n",
       "      <td>6.493</td>\n",
       "      <td>M0</td>\n",
       "      <td></td>\n",
       "    </tr>\n",
       "    <tr>\n",
       "      <th>1</th>\n",
       "      <td>HD 283572</td>\n",
       "      <td>1.529</td>\n",
       "      <td>G6 IV</td>\n",
       "      <td></td>\n",
       "    </tr>\n",
       "    <tr>\n",
       "      <th>2</th>\n",
       "      <td>Hubble 4</td>\n",
       "      <td>NaN</td>\n",
       "      <td>K7</td>\n",
       "      <td></td>\n",
       "    </tr>\n",
       "    <tr>\n",
       "      <th>3</th>\n",
       "      <td>LkCa 1</td>\n",
       "      <td>2.497</td>\n",
       "      <td>M4</td>\n",
       "      <td></td>\n",
       "    </tr>\n",
       "    <tr>\n",
       "      <th>4</th>\n",
       "      <td>LkCa 4</td>\n",
       "      <td>3.374</td>\n",
       "      <td>K7</td>\n",
       "      <td></td>\n",
       "    </tr>\n",
       "  </tbody>\n",
       "</table>\n",
       "</div>"
      ],
      "text/plain": [
       "        name  Period      SpT mult\n",
       "0     Anon 1   6.493   M0         \n",
       "1  HD 283572   1.529   G6 IV      \n",
       "2   Hubble 4     NaN   K7         \n",
       "3     LkCa 1   2.497   M4         \n",
       "4     LkCa 4   3.374   K7         "
      ]
     },
     "execution_count": 5,
     "metadata": {},
     "output_type": "execute_result"
    }
   ],
   "source": [
    "pd.read_csv('../data/metadata/Grankin08_physical.csv').head()"
   ]
  },
  {
   "cell_type": "code",
   "execution_count": 6,
   "metadata": {
    "collapsed": true
   },
   "outputs": [],
   "source": [
    "#pd.read_csv('../data/metadata/IGRINS_hdr_table.csv').columns"
   ]
  },
  {
   "cell_type": "code",
   "execution_count": 8,
   "metadata": {},
   "outputs": [
    {
     "data": {
      "text/html": [
       "<div>\n",
       "<style>\n",
       "    .dataframe thead tr:only-child th {\n",
       "        text-align: right;\n",
       "    }\n",
       "\n",
       "    .dataframe thead th {\n",
       "        text-align: left;\n",
       "    }\n",
       "\n",
       "    .dataframe tbody tr th {\n",
       "        vertical-align: top;\n",
       "    }\n",
       "</style>\n",
       "<table border=\"1\" class=\"dataframe\">\n",
       "  <thead>\n",
       "    <tr style=\"text-align: right;\">\n",
       "      <th></th>\n",
       "      <th>filename_H</th>\n",
       "      <th>AMEND</th>\n",
       "      <th>AMSTART</th>\n",
       "      <th>ACQTIME1</th>\n",
       "      <th>DATE-END</th>\n",
       "      <th>DATE-OBS</th>\n",
       "      <th>ACQTIME</th>\n",
       "      <th>ALT</th>\n",
       "      <th>OBJECT</th>\n",
       "    </tr>\n",
       "  </thead>\n",
       "  <tbody>\n",
       "    <tr>\n",
       "      <th>0</th>\n",
       "      <td>SDCH_20141118_0174.spec_a0v.fits</td>\n",
       "      <td>1.1205</td>\n",
       "      <td>1.1205</td>\n",
       "      <td>2014-11-19-09:20:15.889</td>\n",
       "      <td>2014-11-19-09:20:15.889</td>\n",
       "      <td>2014-11-19-09:20:15.889</td>\n",
       "      <td>2.456981e+06</td>\n",
       "      <td>2.5</td>\n",
       "      <td>Anon1</td>\n",
       "    </tr>\n",
       "    <tr>\n",
       "      <th>1</th>\n",
       "      <td>SDCH_20141119_0119.spec_a0v.fits</td>\n",
       "      <td>1.0467</td>\n",
       "      <td>1.0467</td>\n",
       "      <td>2014-11-20-08:39:59.861</td>\n",
       "      <td>2014-11-20-08:39:59.861</td>\n",
       "      <td>2014-11-20-08:39:59.861</td>\n",
       "      <td>2.456982e+06</td>\n",
       "      <td>30.4</td>\n",
       "      <td>HD283572</td>\n",
       "    </tr>\n",
       "    <tr>\n",
       "      <th>2</th>\n",
       "      <td>SDCH_20141120_0104.spec_a0v.fits</td>\n",
       "      <td>1.1631</td>\n",
       "      <td>1.1631</td>\n",
       "      <td>2014-11-21-05:23:40.724</td>\n",
       "      <td>2014-11-21-05:23:40.724</td>\n",
       "      <td>2014-11-21-05:23:40.724</td>\n",
       "      <td>2.456983e+06</td>\n",
       "      <td>22.7</td>\n",
       "      <td>V827Tau</td>\n",
       "    </tr>\n",
       "    <tr>\n",
       "      <th>3</th>\n",
       "      <td>SDCH_20141120_0119.spec_a0v.fits</td>\n",
       "      <td>1.0129</td>\n",
       "      <td>1.0129</td>\n",
       "      <td>2014-11-21-07:55:12.830</td>\n",
       "      <td>2014-11-21-07:55:12.830</td>\n",
       "      <td>2014-11-21-07:55:12.830</td>\n",
       "      <td>2.456983e+06</td>\n",
       "      <td>12.5</td>\n",
       "      <td>Hubble_4</td>\n",
       "    </tr>\n",
       "    <tr>\n",
       "      <th>4</th>\n",
       "      <td>SDCH_20141122_0157.spec_a0v.fits</td>\n",
       "      <td>1.0222</td>\n",
       "      <td>1.0222</td>\n",
       "      <td>2014-11-23-08:16:28.844</td>\n",
       "      <td>2014-11-23-08:16:28.844</td>\n",
       "      <td>2014-11-23-08:16:28.844</td>\n",
       "      <td>2.456985e+06</td>\n",
       "      <td>23.8</td>\n",
       "      <td>IW Tau A</td>\n",
       "    </tr>\n",
       "  </tbody>\n",
       "</table>\n",
       "</div>"
      ],
      "text/plain": [
       "                         filename_H   AMEND  AMSTART                 ACQTIME1  \\\n",
       "0  SDCH_20141118_0174.spec_a0v.fits  1.1205   1.1205  2014-11-19-09:20:15.889   \n",
       "1  SDCH_20141119_0119.spec_a0v.fits  1.0467   1.0467  2014-11-20-08:39:59.861   \n",
       "2  SDCH_20141120_0104.spec_a0v.fits  1.1631   1.1631  2014-11-21-05:23:40.724   \n",
       "3  SDCH_20141120_0119.spec_a0v.fits  1.0129   1.0129  2014-11-21-07:55:12.830   \n",
       "4  SDCH_20141122_0157.spec_a0v.fits  1.0222   1.0222  2014-11-23-08:16:28.844   \n",
       "\n",
       "                  DATE-END                 DATE-OBS       ACQTIME   ALT  \\\n",
       "0  2014-11-19-09:20:15.889  2014-11-19-09:20:15.889  2.456981e+06   2.5   \n",
       "1  2014-11-20-08:39:59.861  2014-11-20-08:39:59.861  2.456982e+06  30.4   \n",
       "2  2014-11-21-05:23:40.724  2014-11-21-05:23:40.724  2.456983e+06  22.7   \n",
       "3  2014-11-21-07:55:12.830  2014-11-21-07:55:12.830  2.456983e+06  12.5   \n",
       "4  2014-11-23-08:16:28.844  2014-11-23-08:16:28.844  2.456985e+06  23.8   \n",
       "\n",
       "     OBJECT  \n",
       "0     Anon1  \n",
       "1  HD283572  \n",
       "2   V827Tau  \n",
       "3  Hubble_4  \n",
       "4  IW Tau A  "
      ]
     },
     "execution_count": 8,
     "metadata": {},
     "output_type": "execute_result"
    }
   ],
   "source": [
    "usecols = ['filename_H', 'AMEND', 'AMSTART', 'ACQTIME1', 'DATE-END', 'DATE-OBS', 'ACQTIME', 'ALT', 'OBJECT']\n",
    "pd.read_csv('../data/metadata/IGRINS_hdr_table.csv', usecols=usecols).head()"
   ]
  },
  {
   "cell_type": "code",
   "execution_count": 9,
   "metadata": {
    "collapsed": true
   },
   "outputs": [],
   "source": [
    "! open ../data/metadata/K2_EPIC.numbers"
   ]
  },
  {
   "cell_type": "code",
   "execution_count": 10,
   "metadata": {
    "collapsed": true
   },
   "outputs": [],
   "source": [
    "! open ../data/metadata/MGS_Data_request_August9_2016.xlsx"
   ]
  },
  {
   "cell_type": "code",
   "execution_count": 11,
   "metadata": {},
   "outputs": [
    {
     "data": {
      "text/html": [
       "<div>\n",
       "<style>\n",
       "    .dataframe thead tr:only-child th {\n",
       "        text-align: right;\n",
       "    }\n",
       "\n",
       "    .dataframe thead th {\n",
       "        text-align: left;\n",
       "    }\n",
       "\n",
       "    .dataframe tbody tr th {\n",
       "        vertical-align: top;\n",
       "    }\n",
       "</style>\n",
       "<table border=\"1\" class=\"dataframe\">\n",
       "  <thead>\n",
       "    <tr style=\"text-align: right;\">\n",
       "      <th></th>\n",
       "      <th>OBJECT</th>\n",
       "      <th>UTDATE</th>\n",
       "      <th>filename_K</th>\n",
       "      <th>filename_H</th>\n",
       "    </tr>\n",
       "  </thead>\n",
       "  <tbody>\n",
       "    <tr>\n",
       "      <th>0</th>\n",
       "      <td>Anon1</td>\n",
       "      <td>2014-11-19</td>\n",
       "      <td>SDCK_20141118_0174.spec_a0v.fits</td>\n",
       "      <td>SDCH_20141118_0174.spec_a0v.fits</td>\n",
       "    </tr>\n",
       "    <tr>\n",
       "      <th>1</th>\n",
       "      <td>HD283572</td>\n",
       "      <td>2014-11-20</td>\n",
       "      <td>SDCK_20141119_0119.spec_a0v.fits</td>\n",
       "      <td>SDCH_20141119_0119.spec_a0v.fits</td>\n",
       "    </tr>\n",
       "    <tr>\n",
       "      <th>2</th>\n",
       "      <td>V827Tau</td>\n",
       "      <td>2014-11-21</td>\n",
       "      <td>SDCK_20141120_0104.spec_a0v.fits</td>\n",
       "      <td>SDCH_20141120_0104.spec_a0v.fits</td>\n",
       "    </tr>\n",
       "    <tr>\n",
       "      <th>3</th>\n",
       "      <td>Hubble_4</td>\n",
       "      <td>2014-11-21</td>\n",
       "      <td>SDCK_20141120_0119.spec_a0v.fits</td>\n",
       "      <td>SDCH_20141120_0119.spec_a0v.fits</td>\n",
       "    </tr>\n",
       "    <tr>\n",
       "      <th>4</th>\n",
       "      <td>IW Tau A</td>\n",
       "      <td>2014-11-23</td>\n",
       "      <td>SDCK_20141122_0157.spec_a0v.fits</td>\n",
       "      <td>SDCH_20141122_0157.spec_a0v.fits</td>\n",
       "    </tr>\n",
       "  </tbody>\n",
       "</table>\n",
       "</div>"
      ],
      "text/plain": [
       "     OBJECT      UTDATE                        filename_K  \\\n",
       "0     Anon1  2014-11-19  SDCK_20141118_0174.spec_a0v.fits   \n",
       "1  HD283572  2014-11-20  SDCK_20141119_0119.spec_a0v.fits   \n",
       "2   V827Tau  2014-11-21  SDCK_20141120_0104.spec_a0v.fits   \n",
       "3  Hubble_4  2014-11-21  SDCK_20141120_0119.spec_a0v.fits   \n",
       "4  IW Tau A  2014-11-23  SDCK_20141122_0157.spec_a0v.fits   \n",
       "\n",
       "                         filename_H  \n",
       "0  SDCH_20141118_0174.spec_a0v.fits  \n",
       "1  SDCH_20141119_0119.spec_a0v.fits  \n",
       "2  SDCH_20141120_0104.spec_a0v.fits  \n",
       "3  SDCH_20141120_0119.spec_a0v.fits  \n",
       "4  SDCH_20141122_0157.spec_a0v.fits  "
      ]
     },
     "execution_count": 11,
     "metadata": {},
     "output_type": "execute_result"
    }
   ],
   "source": [
    "pd.read_csv('../data/metadata/MGS_addendum_request_20170829.csv').head()"
   ]
  },
  {
   "cell_type": "code",
   "execution_count": 12,
   "metadata": {},
   "outputs": [
    {
     "data": {
      "text/html": [
       "<div>\n",
       "<style>\n",
       "    .dataframe thead tr:only-child th {\n",
       "        text-align: right;\n",
       "    }\n",
       "\n",
       "    .dataframe thead th {\n",
       "        text-align: left;\n",
       "    }\n",
       "\n",
       "    .dataframe tbody tr th {\n",
       "        vertical-align: top;\n",
       "    }\n",
       "</style>\n",
       "<table border=\"1\" class=\"dataframe\">\n",
       "  <thead>\n",
       "    <tr style=\"text-align: right;\">\n",
       "      <th></th>\n",
       "      <th>name</th>\n",
       "      <th>master_fn</th>\n",
       "      <th>ASASSN_fn</th>\n",
       "      <th>Grankin08_fn</th>\n",
       "    </tr>\n",
       "  </thead>\n",
       "  <tbody>\n",
       "    <tr>\n",
       "      <th>0</th>\n",
       "      <td>Anon 1</td>\n",
       "      <td>Anon_1_flat.csv</td>\n",
       "      <td>ANON1_ASASSN_20170803.csv</td>\n",
       "      <td>hbc366.dat</td>\n",
       "    </tr>\n",
       "    <tr>\n",
       "      <th>1</th>\n",
       "      <td>HD 283572</td>\n",
       "      <td>HD_283572_flat.csv</td>\n",
       "      <td>HD_283572_ASASSN_20170803.csv</td>\n",
       "      <td>hd283572.dat</td>\n",
       "    </tr>\n",
       "    <tr>\n",
       "      <th>2</th>\n",
       "      <td>Hubble 4</td>\n",
       "      <td>Hubble_4_flat.csv</td>\n",
       "      <td>HUBBLE4_ASASSN_20170803.csv</td>\n",
       "      <td>hbc374.dat</td>\n",
       "    </tr>\n",
       "    <tr>\n",
       "      <th>3</th>\n",
       "      <td>LkCa 1</td>\n",
       "      <td>LkCa_1_flat.csv</td>\n",
       "      <td>LkCa1_ASASSN_20170803.csv</td>\n",
       "      <td>lkca1.dat</td>\n",
       "    </tr>\n",
       "    <tr>\n",
       "      <th>4</th>\n",
       "      <td>LkCa 4</td>\n",
       "      <td>LkCa_4_flat.csv</td>\n",
       "      <td>LkCa4_ASASSN_20170803.csv</td>\n",
       "      <td>lkca4.dat</td>\n",
       "    </tr>\n",
       "  </tbody>\n",
       "</table>\n",
       "</div>"
      ],
      "text/plain": [
       "        name           master_fn                      ASASSN_fn  Grankin08_fn\n",
       "0     Anon 1     Anon_1_flat.csv      ANON1_ASASSN_20170803.csv    hbc366.dat\n",
       "1  HD 283572  HD_283572_flat.csv  HD_283572_ASASSN_20170803.csv  hd283572.dat\n",
       "2   Hubble 4   Hubble_4_flat.csv    HUBBLE4_ASASSN_20170803.csv    hbc374.dat\n",
       "3     LkCa 1     LkCa_1_flat.csv      LkCa1_ASASSN_20170803.csv     lkca1.dat\n",
       "4     LkCa 4     LkCa_4_flat.csv      LkCa4_ASASSN_20170803.csv     lkca4.dat"
      ]
     },
     "execution_count": 12,
     "metadata": {},
     "output_type": "execute_result"
    }
   ],
   "source": [
    "pd.read_csv('../data/metadata/photometry_filenames.csv').head()"
   ]
  },
  {
   "cell_type": "markdown",
   "metadata": {},
   "source": [
    "That's it for now."
   ]
  },
  {
   "cell_type": "markdown",
   "metadata": {},
   "source": [
    "<!--NAVIGATION-->\n",
    "< [Measuring starspots on young stars](00.00-Preface.ipynb) | [Contents](Index.ipynb) | [IGRINS FITS files](01.01-IGRINS_FITS_header_table.ipynb) >"
   ]
  }
 ],
 "metadata": {
  "kernelspec": {
   "display_name": "Python 3",
   "language": "python",
   "name": "python3"
  },
  "language_info": {
   "codemirror_mode": {
    "name": "ipython",
    "version": 3
   },
   "file_extension": ".py",
   "mimetype": "text/x-python",
   "name": "python",
   "nbconvert_exporter": "python",
   "pygments_lexer": "ipython3",
   "version": "3.6.2"
  }
 },
 "nbformat": 4,
 "nbformat_minor": 2
}
