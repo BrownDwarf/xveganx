{
 "cells": [
  {
   "cell_type": "markdown",
   "metadata": {},
   "source": [
    "# xveganx"
   ]
  },
  {
   "cell_type": "markdown",
   "metadata": {},
   "source": [
    "*Michael Gully-Santiago*\n",
    "\n",
    "![Book Cover](figures/xveganx_icon.png)"
   ]
  },
  {
   "cell_type": "markdown",
   "metadata": {},
   "source": [
    "This collection of Jupyter notebooks contains the ongoing research materials related to spectral inference of weak-lined T-Tauri Stars by Michael Gully-Santiago and collaborators.  The content is available [on GitHub](https://github.com/BrownDwarf/xveganx)."
   ]
  },
  {
   "cell_type": "markdown",
   "metadata": {},
   "source": [
    "## Table of Contents"
   ]
  },
  {
   "cell_type": "markdown",
   "metadata": {},
   "source": [
    "### [Measuring starspots on young stars](00.00-Preface.ipynb)\n",
    "\n",
    "### [1. Metadata](01.00-Metadata.ipynb)\n",
    "- [IGRINS FITS files](01.01-IGRINS_FITS_header_table.ipynb)\n",
    "- [Period, Spectral Type, and multiplicity](01.02-Grankin2008_period_info.ipynb)\n",
    "- [All photometry in a flat table](01.03-Flat_table_photometry.ipynb)\n",
    "- [Seasonal and yearly photometry metadata](01.04-Seasonal-and-yearly-photometric-metadata.ipynb)\n",
    "\n",
    "### [2. Spectral cleaning](02.00-Clean-IGRINS-spectra.ipynb)\n",
    "- [IW Tau A](02.01-IWTau-A.ipynb)\n",
    "- [IW Tau A, Enhanced processing](02.02-IWTau-A-Enhanced-processing.ipynb)\n",
    "- [V827 Manual IGRINS spectrum cleaning](02.03-V827-manual-cleaning.ipynb)\n",
    "\n",
    "### [3. Spectral inference with Starfish Mixture Models](03.00-Spectral-Inference-with-Starfish.ipynb)\n",
    "- [Spotcheck mixture model of Anon1](03.01-Mixture-model-Anon1-spot-check.ipynb)\n",
    "- [Run01 MCMC chains of Anon1](03.02-Anon1_m112_MCMC_chain.ipynb)\n",
    "\n",
    "### [4. Lightcurves](04.00-Lightcurves.ipynb)\n",
    "- [Phase-folded time-series variability plots](04.01-Lightcurve-postage_stamps_by_object.ipynb)\n",
    "- [Periodogram analysis demo of HD 283572](04.02-Boutique-periodogram-analysis-HD283572.ipynb)\n",
    "- [Boutique photometry collection for V819 Tau](04.03-Boutique-photometry-analysis-V819Tau.ipynb)\n",
    "\n",
    " ######################################################################"
   ]
  }
 ],
 "metadata": {
  "anaconda-cloud": {},
  "kernelspec": {
   "display_name": "Python 3",
   "language": "python",
   "name": "python3"
  },
  "language_info": {
   "codemirror_mode": {
    "name": "ipython",
    "version": 3
   },
   "file_extension": ".py",
   "mimetype": "text/x-python",
   "name": "python",
   "nbconvert_exporter": "python",
   "pygments_lexer": "ipython3",
   "version": "3.6.2"
  }
 },
 "nbformat": 4,
 "nbformat_minor": 1
}
